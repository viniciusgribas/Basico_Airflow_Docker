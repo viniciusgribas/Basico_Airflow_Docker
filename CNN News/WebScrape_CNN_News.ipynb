{
 "cells": [
  {
   "cell_type": "markdown",
   "metadata": {},
   "source": [
    "\n",
    "---\n",
    "\n",
    "# Vinicius Guerra e Ribas -  Data Engineer\n",
    "[Energy Engineer (UnB)](https://www.unb.br/) │ [Data Scientist and Analytics (USP)](https://www5.usp.br/)\n",
    "\n",
    "\n",
    "## [📧 E-mail](mailto:viniciusgribas@gmail.com) │ [🎯 Linkedin](https://www.linkedin.com/in/vinicius-guerra-e-ribas/) │ [😸 GitHub](https://github.com/viniciusgribas) \n",
    "\n",
    "---\n",
    "\n",
    "# [💻Project Notebook](https://github.com/viniciusgribas/EnergyNewsScrapping) [🇧🇷] \n"
   ]
  },
  {
   "cell_type": "code",
   "execution_count": 1,
   "metadata": {},
   "outputs": [
    {
     "name": "stderr",
     "output_type": "stream",
     "text": [
      "[nltk_data] Downloading package floresta to\n",
      "[nltk_data]     C:\\Users\\vinic\\AppData\\Roaming\\nltk_data...\n",
      "[nltk_data]   Package floresta is already up-to-date!\n"
     ]
    }
   ],
   "source": [
    "# import the libraries\n",
    "#\n",
    "## WebScrapping Libraries\n",
    "from bs4 import BeautifulSoup\n",
    "import requests\n",
    "import urllib.request\n",
    "\n",
    "## NLP and ML Libraries\n",
    "import nltk\n",
    "from newspaper import Article\n",
    "nltk.download('floresta') # \"Portuguese Treebank\" divides the text into a list of sentences using ML algorithm\n",
    "from nltk.corpus import stopwords\n",
    "from wordcloud import WordCloud, STOPWORDS, ImageColorGenerator\n",
    "\n",
    "## Data Frame manipulation and Analytics Libraries\n",
    "import pandas as pd\n",
    "import time\n",
    "import matplotlib.pyplot as py\n",
    "import plotly_express as px\n",
    "import plotly as plt\n",
    "import datetime\n",
    "\n"
   ]
  },
  {
   "cell_type": "code",
   "execution_count": 2,
   "metadata": {},
   "outputs": [],
   "source": [
    "# Create a function to scrape the website\n",
    "\n",
    "def scrape_cnn_website(search, page):\n",
    "# \"\"\" \n",
    "# Scrapes the CNN Website based on a theme and a page number.\n",
    "# \"\"\"\n",
    "\n",
    "    page_theme = search\n",
    "    page_number = str(page)\n",
    "\n",
    "    url = 'https://www.cnnbrasil.com.br/tudo-sobre/' + page_theme + '/' + 'pagina' + page_number +'/' \n",
    "    webpage = requests.get(url)\n",
    "    soup = BeautifulSoup(webpage.text, 'html.parser')\n",
    "\n",
    "    # Get the location of the information\n",
    "    article_date = soup.find_all('span', attrs= {'class': 'home__title__date'}) # location of data information\n",
    "    article_title = soup.find_all('h2', attrs= {'class': 'news-item-header__title'} ) # location of title information\n",
    "    article_tag = soup.find_all('span', attrs= {'class': 'latest__news__category'} ) # location of the tag\n",
    "    article_theme = soup.find_all('h1', attrs= {'class': 'tags__topics__title'} ) # location of the theme\n",
    "    article_links = soup.find_all('a',attrs={'class': 'home__list__tag'} )# location of the links\n",
    "\n",
    "    # Loop through the article_date\n",
    "    for i in article_date:\n",
    "        temp=0\n",
    "        temp = i.text.strip()\n",
    "        date = temp[0:10]\n",
    "        time = temp[14:19]\n",
    "        date_time = date +'-'+ time\n",
    "\n",
    "        date_time = pd.to_datetime(date_time,format= '%d/%m/%Y-%H:%M').strftime('%d/%m/%Y - %H:%M')\n",
    "        dates.append(date_time)\n",
    "\n",
    "    # Loop through the article_titles and set the theme\n",
    "    for i in article_title:\n",
    "        temp = 0\n",
    "        temp = i.text.strip()\n",
    "        title.append(temp)\n",
    "        theme.append(article_theme[0].text.strip().split()[2])\n",
    "\n",
    "    # Loop through the article_tags\n",
    "    for i in article_tag:\n",
    "        temp = 0\n",
    "        temp = i.text.strip()\n",
    "        tag.append(temp)\n",
    "\n",
    "    # Loop through the article_links\n",
    "    for i in article_links:\n",
    "        href = i.get('href')\n",
    "        links.append(href)\n",
    "\n",
    "        # NLP Process: Scrapes the article, download the information and parse a nlp into a interable object\n",
    "        article = Article(href) # Scrapes the Article\n",
    "        article.download()\n",
    "        article.parse()\n",
    "        article.nlp()\n",
    "\n",
    "        # Interact with the articles\n",
    "        site_name = article.meta_data['og']['site_name']\n",
    "        text = article.text\n",
    "        summary = article.summary\n",
    "        texts.append(text)\n",
    "        summarys.append(summary)\n",
    "        authors.append(site_name)\n"
   ]
  },
  {
   "cell_type": "code",
   "execution_count": 3,
   "metadata": {},
   "outputs": [
    {
     "name": "stdout",
     "output_type": "stream",
     "text": [
      "1 30 30 30 30 30 30 30 30\n"
     ]
    }
   ],
   "source": [
    "# Create lists to store the scraped data\n",
    "theme = []\n",
    "tag = []\n",
    "title = []\n",
    "authors = []\n",
    "dates = []\n",
    "links = []\n",
    "texts = []\n",
    "summarys = []\n",
    "\n",
    "# Number of pages to scrap\n",
    "## min = 1\n",
    "n = 1\n",
    "\n",
    "# search theme\n",
    "## use '-' for spacing\n",
    "## samples: 'energia' ; 'energia-renovavel' ; 'energias-renováveis-no-brasil'\n",
    "search_theme = 'energia'\n",
    "\n",
    "\n",
    "# performs the scrapping with the chosen search on the given pages\n",
    "for i in range(1 , n+1):\n",
    "\n",
    "    #applies the function\n",
    "    scrape_cnn_website(search_theme, i )\n",
    "\n",
    "    # checks how many lines are created for each page\n",
    "    print(i,        # page\n",
    "    len(authors),  \n",
    "    len(links), \n",
    "    len(theme), \n",
    "    len(tag), \n",
    "    len(title),\n",
    "    len(dates), \n",
    "    len(texts), \n",
    "    len(summarys) \n",
    ")"
   ]
  },
  {
   "cell_type": "code",
   "execution_count": 4,
   "metadata": {},
   "outputs": [
    {
     "name": "stdout",
     "output_type": "stream",
     "text": [
      "DF Date Rage: from [20/05/2022 at 00:03:00] to [15/06/2022 at 23:02:00]\n"
     ]
    },
    {
     "data": {
      "text/plain": [
       "dates       0\n",
       "theme       0\n",
       "authors     0\n",
       "tag         0\n",
       "title       0\n",
       "summarys    0\n",
       "texts       0\n",
       "links       0\n",
       "dtype: int64"
      ]
     },
     "execution_count": 4,
     "metadata": {},
     "output_type": "execute_result"
    }
   ],
   "source": [
    "# creates a dataframe based on the stored lists\n",
    "df = pd.DataFrame( columns= ['dates','theme','authors','tag','title','summarys','texts','links' ] )\n",
    "df.dates = dates\n",
    "df.dates = pd.to_datetime(df.dates,format= '%d/%m/%Y - %H:%M')\n",
    "df.theme = theme\n",
    "df.authors = authors\n",
    "df.tag = tag\n",
    "df.title = title\n",
    "df.summarys = summarys\n",
    "df.texts = texts\n",
    "df.links = links\n",
    "\n",
    "# check the analyzed dates\n",
    "date_min = str(df.dates.dt.date.min().strftime('%d/%m/%Y'))+' at '+ str(df.dates.dt.time.min())\n",
    "date_max = str(df.dates.dt.date.max().strftime('%d/%m/%Y'))+' at '+ str(df.dates.dt.time.max())\n",
    "df_date_range = 'DF Date Rage: from ['+ date_min + '] to [' + date_max + ']'\n",
    "print(df_date_range)\n",
    "\n",
    "# checks if the dataframe has null values\n",
    "df.isnull().sum()"
   ]
  },
  {
   "cell_type": "code",
   "execution_count": 5,
   "metadata": {},
   "outputs": [
    {
     "name": "stdout",
     "output_type": "stream",
     "text": [
      "Date Rage: from [20/05/2022 at 00:03:00] to [15/06/2022 at 23:02:00]\n"
     ]
    },
    {
     "data": {
      "text/html": [
       "<div>\n",
       "<style scoped>\n",
       "    .dataframe tbody tr th:only-of-type {\n",
       "        vertical-align: middle;\n",
       "    }\n",
       "\n",
       "    .dataframe tbody tr th {\n",
       "        vertical-align: top;\n",
       "    }\n",
       "\n",
       "    .dataframe thead th {\n",
       "        text-align: right;\n",
       "    }\n",
       "</style>\n",
       "<table border=\"1\" class=\"dataframe\">\n",
       "  <thead>\n",
       "    <tr style=\"text-align: right;\">\n",
       "      <th></th>\n",
       "      <th>dates</th>\n",
       "      <th>theme</th>\n",
       "      <th>authors</th>\n",
       "      <th>tag</th>\n",
       "      <th>title</th>\n",
       "      <th>summarys</th>\n",
       "      <th>texts</th>\n",
       "      <th>links</th>\n",
       "    </tr>\n",
       "  </thead>\n",
       "  <tbody>\n",
       "    <tr>\n",
       "      <th>0</th>\n",
       "      <td>2022-06-15 19:46:00</td>\n",
       "      <td>Energia</td>\n",
       "      <td>CNN Brasil</td>\n",
       "      <td>Business</td>\n",
       "      <td>Golpe triplo para o fornecimento de gás europe...</td>\n",
       "      <td>A gigante italiana de energia ENI disse nesta ...</td>\n",
       "      <td>Europa tentou reduzir suas importações de gás ...</td>\n",
       "      <td>https://www.cnnbrasil.com.br/business/golpe-tr...</td>\n",
       "    </tr>\n",
       "    <tr>\n",
       "      <th>1</th>\n",
       "      <td>2022-06-15 14:35:00</td>\n",
       "      <td>Energia</td>\n",
       "      <td>CNN Brasil</td>\n",
       "      <td>Business</td>\n",
       "      <td>Consumo de energia aumenta 0,6% no primeiro tr...</td>\n",
       "      <td>Ouvir notíciaO consumo de energia elétrica aum...</td>\n",
       "      <td>Ouvir notícia\\n\\nO consumo de energia elétrica...</td>\n",
       "      <td>https://www.cnnbrasil.com.br/business/consumo-...</td>\n",
       "    </tr>\n",
       "    <tr>\n",
       "      <th>2</th>\n",
       "      <td>2022-06-15 10:21:00</td>\n",
       "      <td>Energia</td>\n",
       "      <td>CNN Brasil</td>\n",
       "      <td>Business</td>\n",
       "      <td>Demanda global por petróleo deve retomar nível...</td>\n",
       "      <td>A demanda por petróleo aumentará 2,2 milhões d...</td>\n",
       "      <td>Produtores dos EUA devem aumentar a oferta no ...</td>\n",
       "      <td>https://www.cnnbrasil.com.br/business/demanda-...</td>\n",
       "    </tr>\n",
       "    <tr>\n",
       "      <th>3</th>\n",
       "      <td>2022-06-13 17:08:00</td>\n",
       "      <td>Energia</td>\n",
       "      <td>CNN Brasil</td>\n",
       "      <td>Business</td>\n",
       "      <td>Estados querem reduzir ICMS sobre combustíveis...</td>\n",
       "      <td>A proposta de acordo é do Comitê Nacional de S...</td>\n",
       "      <td>Proposta de acordo é do Comitê Nacional de Sec...</td>\n",
       "      <td>https://www.cnnbrasil.com.br/business/estados-...</td>\n",
       "    </tr>\n",
       "    <tr>\n",
       "      <th>4</th>\n",
       "      <td>2022-06-13 16:39:00</td>\n",
       "      <td>Energia</td>\n",
       "      <td>CNN Brasil</td>\n",
       "      <td>Business</td>\n",
       "      <td>Atlas Renewable Energy estreia em eólicas no B...</td>\n",
       "      <td>O projeto adquirido pela Atlas, geradora de en...</td>\n",
       "      <td>Atlas cresceu apostando na geração solar e hoj...</td>\n",
       "      <td>https://www.cnnbrasil.com.br/business/atlas-re...</td>\n",
       "    </tr>\n",
       "    <tr>\n",
       "      <th>5</th>\n",
       "      <td>2022-06-13 12:58:00</td>\n",
       "      <td>Energia</td>\n",
       "      <td>CNN Brasil</td>\n",
       "      <td>Business</td>\n",
       "      <td>China passa Alemanha e se torna maior importad...</td>\n",
       "      <td>Mudança reflete a crescente importância da Chi...</td>\n",
       "      <td>Mudança reflete a crescente importância da Chi...</td>\n",
       "      <td>https://www.cnnbrasil.com.br/business/china-pa...</td>\n",
       "    </tr>\n",
       "    <tr>\n",
       "      <th>6</th>\n",
       "      <td>2022-06-08 19:47:00</td>\n",
       "      <td>Energia</td>\n",
       "      <td>CNN Brasil</td>\n",
       "      <td>Business</td>\n",
       "      <td>Câmara aprova projeto para proibir cobrança de...</td>\n",
       "      <td>O texto original apresentado previa que o ICMS...</td>\n",
       "      <td>Bandeiras tarifárias indicam aos consumidores ...</td>\n",
       "      <td>https://www.cnnbrasil.com.br/business/camara-a...</td>\n",
       "    </tr>\n",
       "    <tr>\n",
       "      <th>7</th>\n",
       "      <td>2022-06-08 17:49:00</td>\n",
       "      <td>Energia</td>\n",
       "      <td>CNN Brasil</td>\n",
       "      <td>Business</td>\n",
       "      <td>Mundo está à beira da maior crise sobre custo ...</td>\n",
       "      <td>A entidade destaca que os choques nos preços d...</td>\n",
       "      <td>Crise alimentar, por enquanto concentrada em p...</td>\n",
       "      <td>https://www.cnnbrasil.com.br/business/mundo-es...</td>\n",
       "    </tr>\n",
       "    <tr>\n",
       "      <th>8</th>\n",
       "      <td>2022-06-07 15:51:00</td>\n",
       "      <td>Energia</td>\n",
       "      <td>CNN Brasil</td>\n",
       "      <td>Business</td>\n",
       "      <td>Consumo de gás natural aumentou 6,9% no primei...</td>\n",
       "      <td>O aumento é justificado pela alta em três segm...</td>\n",
       "      <td>Tanques de armazenamento de gás natural na Baí...</td>\n",
       "      <td>https://www.cnnbrasil.com.br/business/consumo-...</td>\n",
       "    </tr>\n",
       "    <tr>\n",
       "      <th>9</th>\n",
       "      <td>2022-06-05 00:03:00</td>\n",
       "      <td>Energia</td>\n",
       "      <td>CNN Brasil</td>\n",
       "      <td>Business</td>\n",
       "      <td>Sanções russas de gás podem custar 5 bilhões d...</td>\n",
       "      <td>Fornecimento à Gazprom Germania foi interrompi...</td>\n",
       "      <td>Fornecimento à Gazprom Germania foi interrompi...</td>\n",
       "      <td>https://www.cnnbrasil.com.br/business/sancoes-...</td>\n",
       "    </tr>\n",
       "    <tr>\n",
       "      <th>10</th>\n",
       "      <td>2022-06-02 12:04:00</td>\n",
       "      <td>Energia</td>\n",
       "      <td>CNN Brasil</td>\n",
       "      <td>Business</td>\n",
       "      <td>Eletronuclear desconecta usina de Angra 1 para...</td>\n",
       "      <td>De acordo com a Eletronuclear, empresa estatal...</td>\n",
       "      <td>Empresa anunciou que a usina foi desconectada ...</td>\n",
       "      <td>https://www.cnnbrasil.com.br/business/eletronu...</td>\n",
       "    </tr>\n",
       "    <tr>\n",
       "      <th>11</th>\n",
       "      <td>2022-06-01 13:02:00</td>\n",
       "      <td>Energia</td>\n",
       "      <td>CNN Brasil</td>\n",
       "      <td>Business</td>\n",
       "      <td>Rússia corta fornecimento de gás natural à Din...</td>\n",
       "      <td>Moscou suspendeu anteriormente o fornecimento ...</td>\n",
       "      <td>Moscou suspendeu anteriormente o fornecimento ...</td>\n",
       "      <td>https://www.cnnbrasil.com.br/business/russia-c...</td>\n",
       "    </tr>\n",
       "    <tr>\n",
       "      <th>12</th>\n",
       "      <td>2022-05-31 19:07:00</td>\n",
       "      <td>Energia</td>\n",
       "      <td>CNN Brasil</td>\n",
       "      <td>Business</td>\n",
       "      <td>Rússia está prestes a interromper fornecimento...</td>\n",
       "      <td>Mas o movimento da Gazprom ainda deve abalar a...</td>\n",
       "      <td>A Polônia, cujo acordo de gás com a Rússia exp...</td>\n",
       "      <td>https://www.cnnbrasil.com.br/business/russia-e...</td>\n",
       "    </tr>\n",
       "    <tr>\n",
       "      <th>13</th>\n",
       "      <td>2022-05-30 20:01:00</td>\n",
       "      <td>Energia</td>\n",
       "      <td>CNN Brasil</td>\n",
       "      <td>Nacional</td>\n",
       "      <td>Mortes pelas chuvas, testes nas urnas eletrôni...</td>\n",
       "      <td>Segundo levantamento da CNN, 479 pessoas morre...</td>\n",
       "      <td>Segundo levantamento da CNN, 479 pessoas morre...</td>\n",
       "      <td>https://www.cnnbrasil.com.br/nacional/mortes-p...</td>\n",
       "    </tr>\n",
       "    <tr>\n",
       "      <th>14</th>\n",
       "      <td>2022-05-30 14:26:00</td>\n",
       "      <td>Energia</td>\n",
       "      <td>CNN Brasil</td>\n",
       "      <td>Internacional</td>\n",
       "      <td>Rússia corta nesta terça fornecimento de gás à...</td>\n",
       "      <td>A GasTerra, que compra e comercializa gás em n...</td>\n",
       "      <td>Funcionário em local de construção do gasoduto...</td>\n",
       "      <td>https://www.cnnbrasil.com.br/internacional/rus...</td>\n",
       "    </tr>\n",
       "    <tr>\n",
       "      <th>15</th>\n",
       "      <td>2022-05-30 11:20:00</td>\n",
       "      <td>Energia</td>\n",
       "      <td>CNN Brasil</td>\n",
       "      <td>Business</td>\n",
       "      <td>UE não chega a acordo sobre sanções a petróleo...</td>\n",
       "      <td>Autoridades europeias propuseram pela primeira...</td>\n",
       "      <td>Acordo foi impedido pela relutância de alguns ...</td>\n",
       "      <td>https://www.cnnbrasil.com.br/business/ue-nao-c...</td>\n",
       "    </tr>\n",
       "    <tr>\n",
       "      <th>16</th>\n",
       "      <td>2022-05-27 14:08:00</td>\n",
       "      <td>Energia</td>\n",
       "      <td>CNN Brasil</td>\n",
       "      <td>Business</td>\n",
       "      <td>Leilão contrata 29 novas usinas de energia lim...</td>\n",
       "      <td>As empresas compraram energia de 18 usinas hid...</td>\n",
       "      <td>Usina de Marimbondo: empresas compraram energi...</td>\n",
       "      <td>https://www.cnnbrasil.com.br/business/leilao-c...</td>\n",
       "    </tr>\n",
       "    <tr>\n",
       "      <th>17</th>\n",
       "      <td>2022-05-27 13:16:00</td>\n",
       "      <td>Energia</td>\n",
       "      <td>CNN Brasil</td>\n",
       "      <td>Business</td>\n",
       "      <td>Países do G7 se comprometem a descarbonizar el...</td>\n",
       "      <td>Segundo nota, governos também pretendem encerr...</td>\n",
       "      <td>Segundo nota, governos também pretendem encerr...</td>\n",
       "      <td>https://www.cnnbrasil.com.br/business/transica...</td>\n",
       "    </tr>\n",
       "    <tr>\n",
       "      <th>18</th>\n",
       "      <td>2022-05-27 09:54:00</td>\n",
       "      <td>Energia</td>\n",
       "      <td>CNN Brasil</td>\n",
       "      <td>Business</td>\n",
       "      <td>EUA e Alemanha assinam acordo para acelerar tr...</td>\n",
       "      <td>Pelo acordo, os dois países vão trabalhar no d...</td>\n",
       "      <td>Os dois lados também se comprometeram a colabo...</td>\n",
       "      <td>https://www.cnnbrasil.com.br/business/eua-e-al...</td>\n",
       "    </tr>\n",
       "    <tr>\n",
       "      <th>19</th>\n",
       "      <td>2022-05-27 08:16:00</td>\n",
       "      <td>Energia</td>\n",
       "      <td>CNN Brasil</td>\n",
       "      <td>Business</td>\n",
       "      <td>Eletrobras autoriza integralização da Santo An...</td>\n",
       "      <td>Presidente da Eletrobras comentou que a empres...</td>\n",
       "      <td>Presidente da Eletrobras comentou que a empres...</td>\n",
       "      <td>https://www.cnnbrasil.com.br/business/eletrobr...</td>\n",
       "    </tr>\n",
       "    <tr>\n",
       "      <th>20</th>\n",
       "      <td>2022-05-26 11:49:00</td>\n",
       "      <td>Energia</td>\n",
       "      <td>CNN Brasil</td>\n",
       "      <td>Business</td>\n",
       "      <td>“Vamos dar a devida importância”, diz Pacheco ...</td>\n",
       "      <td>Presidente do Senado afirmou que estará aberto...</td>\n",
       "      <td>Presidente do Senado afirmou que estará aberto...</td>\n",
       "      <td>https://www.cnnbrasil.com.br/business/vamos-da...</td>\n",
       "    </tr>\n",
       "    <tr>\n",
       "      <th>21</th>\n",
       "      <td>2022-05-26 08:29:00</td>\n",
       "      <td>Energia</td>\n",
       "      <td>CNN Brasil</td>\n",
       "      <td>Business</td>\n",
       "      <td>Mercados globais de gás natural se preparam pa...</td>\n",
       "      <td>Além do clima imprevisível, ainda não está cla...</td>\n",
       "      <td>Um inverno rigoroso no hemisfério Norte também...</td>\n",
       "      <td>https://www.cnnbrasil.com.br/business/mercados...</td>\n",
       "    </tr>\n",
       "    <tr>\n",
       "      <th>22</th>\n",
       "      <td>2022-05-25 23:02:00</td>\n",
       "      <td>Energia</td>\n",
       "      <td>CNN Brasil</td>\n",
       "      <td>Business</td>\n",
       "      <td>Waack: Formação de preços no setor de energia ...</td>\n",
       "      <td>No Senado os governadores prometem frear o pro...</td>\n",
       "      <td>Mas o que se faz agora é tratar uma questão de...</td>\n",
       "      <td>https://www.cnnbrasil.com.br/business/waack-fo...</td>\n",
       "    </tr>\n",
       "    <tr>\n",
       "      <th>23</th>\n",
       "      <td>2022-05-25 17:12:00</td>\n",
       "      <td>Energia</td>\n",
       "      <td>CNN Brasil</td>\n",
       "      <td>Business</td>\n",
       "      <td>Pré-candidatos à Presidência falam sobre propo...</td>\n",
       "      <td>A CNN perguntou aos pré-candidatos à Presidênc...</td>\n",
       "      <td>Ouvir notícia\\n\\nTramita na Câmara dos Deputad...</td>\n",
       "      <td>https://www.cnnbrasil.com.br/politica/pre-cand...</td>\n",
       "    </tr>\n",
       "    <tr>\n",
       "      <th>24</th>\n",
       "      <td>2022-05-25 11:53:00</td>\n",
       "      <td>Energia</td>\n",
       "      <td>CNN Brasil</td>\n",
       "      <td>Business</td>\n",
       "      <td>Entenda o projeto que fixa teto de 17% para o ...</td>\n",
       "      <td>CompensaçãoA última versão do texto do deputad...</td>\n",
       "      <td>Projeto tem o objetivo de tornar essenciais be...</td>\n",
       "      <td>https://www.cnnbrasil.com.br/business/entenda-...</td>\n",
       "    </tr>\n",
       "    <tr>\n",
       "      <th>25</th>\n",
       "      <td>2022-05-24 13:19:00</td>\n",
       "      <td>Energia</td>\n",
       "      <td>CNN Brasil</td>\n",
       "      <td>Business</td>\n",
       "      <td>Consumo de energia em maio tem aumento em rela...</td>\n",
       "      <td>Ainda de acordo com o balanço da CCEE, o setor...</td>\n",
       "      <td>Em contrapartida, as térmicas tiveram redução ...</td>\n",
       "      <td>https://www.cnnbrasil.com.br/business/consumo-...</td>\n",
       "    </tr>\n",
       "    <tr>\n",
       "      <th>26</th>\n",
       "      <td>2022-05-23 17:41:00</td>\n",
       "      <td>Energia</td>\n",
       "      <td>CNN Brasil</td>\n",
       "      <td>Business</td>\n",
       "      <td>Com posições conflitantes, deputados debatem p...</td>\n",
       "      <td>Na avaliação de Forte, considerando que “ningu...</td>\n",
       "      <td>Votação deve ser pautada pelo presidente da Câ...</td>\n",
       "      <td>https://www.cnnbrasil.com.br/politica/com-posi...</td>\n",
       "    </tr>\n",
       "    <tr>\n",
       "      <th>27</th>\n",
       "      <td>2022-05-23 08:28:00</td>\n",
       "      <td>Energia</td>\n",
       "      <td>CNN Brasil</td>\n",
       "      <td>Business</td>\n",
       "      <td>Crise energética não deveria levar à dependênc...</td>\n",
       "      <td>FOTO DE ARQUIVO: Fatih Birol, da Agência Inter...</td>\n",
       "      <td>FOTO DE ARQUIVO: Fatih Birol, da Agência Inter...</td>\n",
       "      <td>https://www.cnnbrasil.com.br/business/crise-en...</td>\n",
       "    </tr>\n",
       "    <tr>\n",
       "      <th>28</th>\n",
       "      <td>2022-05-21 15:16:00</td>\n",
       "      <td>Energia</td>\n",
       "      <td>CNN Brasil</td>\n",
       "      <td>Business</td>\n",
       "      <td>Teto para ICMS não fere autonomia dos estados,...</td>\n",
       "      <td>Ouvir notíciaA Câmara dos Deputados deve votar...</td>\n",
       "      <td>Ouvir notícia\\n\\nA Câmara dos Deputados deve v...</td>\n",
       "      <td>https://www.cnnbrasil.com.br/business/teto-par...</td>\n",
       "    </tr>\n",
       "    <tr>\n",
       "      <th>29</th>\n",
       "      <td>2022-05-20 13:08:00</td>\n",
       "      <td>Energia</td>\n",
       "      <td>CNN Brasil</td>\n",
       "      <td>Business</td>\n",
       "      <td>Produção da Petrobras sobe 2,2% em abril, diz ...</td>\n",
       "      <td>Estatal produziu em média 2,181 milhões de bar...</td>\n",
       "      <td>Estatal produziu em média 2,181 milhões de bar...</td>\n",
       "      <td>https://www.cnnbrasil.com.br/business/producao...</td>\n",
       "    </tr>\n",
       "  </tbody>\n",
       "</table>\n",
       "</div>"
      ],
      "text/plain": [
       "                 dates    theme     authors            tag  \\\n",
       "0  2022-06-15 19:46:00  Energia  CNN Brasil       Business   \n",
       "1  2022-06-15 14:35:00  Energia  CNN Brasil       Business   \n",
       "2  2022-06-15 10:21:00  Energia  CNN Brasil       Business   \n",
       "3  2022-06-13 17:08:00  Energia  CNN Brasil       Business   \n",
       "4  2022-06-13 16:39:00  Energia  CNN Brasil       Business   \n",
       "5  2022-06-13 12:58:00  Energia  CNN Brasil       Business   \n",
       "6  2022-06-08 19:47:00  Energia  CNN Brasil       Business   \n",
       "7  2022-06-08 17:49:00  Energia  CNN Brasil       Business   \n",
       "8  2022-06-07 15:51:00  Energia  CNN Brasil       Business   \n",
       "9  2022-06-05 00:03:00  Energia  CNN Brasil       Business   \n",
       "10 2022-06-02 12:04:00  Energia  CNN Brasil       Business   \n",
       "11 2022-06-01 13:02:00  Energia  CNN Brasil       Business   \n",
       "12 2022-05-31 19:07:00  Energia  CNN Brasil       Business   \n",
       "13 2022-05-30 20:01:00  Energia  CNN Brasil       Nacional   \n",
       "14 2022-05-30 14:26:00  Energia  CNN Brasil  Internacional   \n",
       "15 2022-05-30 11:20:00  Energia  CNN Brasil       Business   \n",
       "16 2022-05-27 14:08:00  Energia  CNN Brasil       Business   \n",
       "17 2022-05-27 13:16:00  Energia  CNN Brasil       Business   \n",
       "18 2022-05-27 09:54:00  Energia  CNN Brasil       Business   \n",
       "19 2022-05-27 08:16:00  Energia  CNN Brasil       Business   \n",
       "20 2022-05-26 11:49:00  Energia  CNN Brasil       Business   \n",
       "21 2022-05-26 08:29:00  Energia  CNN Brasil       Business   \n",
       "22 2022-05-25 23:02:00  Energia  CNN Brasil       Business   \n",
       "23 2022-05-25 17:12:00  Energia  CNN Brasil       Business   \n",
       "24 2022-05-25 11:53:00  Energia  CNN Brasil       Business   \n",
       "25 2022-05-24 13:19:00  Energia  CNN Brasil       Business   \n",
       "26 2022-05-23 17:41:00  Energia  CNN Brasil       Business   \n",
       "27 2022-05-23 08:28:00  Energia  CNN Brasil       Business   \n",
       "28 2022-05-21 15:16:00  Energia  CNN Brasil       Business   \n",
       "29 2022-05-20 13:08:00  Energia  CNN Brasil       Business   \n",
       "\n",
       "                                                title  \\\n",
       "0   Golpe triplo para o fornecimento de gás europe...   \n",
       "1   Consumo de energia aumenta 0,6% no primeiro tr...   \n",
       "2   Demanda global por petróleo deve retomar nível...   \n",
       "3   Estados querem reduzir ICMS sobre combustíveis...   \n",
       "4   Atlas Renewable Energy estreia em eólicas no B...   \n",
       "5   China passa Alemanha e se torna maior importad...   \n",
       "6   Câmara aprova projeto para proibir cobrança de...   \n",
       "7   Mundo está à beira da maior crise sobre custo ...   \n",
       "8   Consumo de gás natural aumentou 6,9% no primei...   \n",
       "9   Sanções russas de gás podem custar 5 bilhões d...   \n",
       "10  Eletronuclear desconecta usina de Angra 1 para...   \n",
       "11  Rússia corta fornecimento de gás natural à Din...   \n",
       "12  Rússia está prestes a interromper fornecimento...   \n",
       "13  Mortes pelas chuvas, testes nas urnas eletrôni...   \n",
       "14  Rússia corta nesta terça fornecimento de gás à...   \n",
       "15  UE não chega a acordo sobre sanções a petróleo...   \n",
       "16  Leilão contrata 29 novas usinas de energia lim...   \n",
       "17  Países do G7 se comprometem a descarbonizar el...   \n",
       "18  EUA e Alemanha assinam acordo para acelerar tr...   \n",
       "19  Eletrobras autoriza integralização da Santo An...   \n",
       "20  “Vamos dar a devida importância”, diz Pacheco ...   \n",
       "21  Mercados globais de gás natural se preparam pa...   \n",
       "22  Waack: Formação de preços no setor de energia ...   \n",
       "23  Pré-candidatos à Presidência falam sobre propo...   \n",
       "24  Entenda o projeto que fixa teto de 17% para o ...   \n",
       "25  Consumo de energia em maio tem aumento em rela...   \n",
       "26  Com posições conflitantes, deputados debatem p...   \n",
       "27  Crise energética não deveria levar à dependênc...   \n",
       "28  Teto para ICMS não fere autonomia dos estados,...   \n",
       "29  Produção da Petrobras sobe 2,2% em abril, diz ...   \n",
       "\n",
       "                                             summarys  \\\n",
       "0   A gigante italiana de energia ENI disse nesta ...   \n",
       "1   Ouvir notíciaO consumo de energia elétrica aum...   \n",
       "2   A demanda por petróleo aumentará 2,2 milhões d...   \n",
       "3   A proposta de acordo é do Comitê Nacional de S...   \n",
       "4   O projeto adquirido pela Atlas, geradora de en...   \n",
       "5   Mudança reflete a crescente importância da Chi...   \n",
       "6   O texto original apresentado previa que o ICMS...   \n",
       "7   A entidade destaca que os choques nos preços d...   \n",
       "8   O aumento é justificado pela alta em três segm...   \n",
       "9   Fornecimento à Gazprom Germania foi interrompi...   \n",
       "10  De acordo com a Eletronuclear, empresa estatal...   \n",
       "11  Moscou suspendeu anteriormente o fornecimento ...   \n",
       "12  Mas o movimento da Gazprom ainda deve abalar a...   \n",
       "13  Segundo levantamento da CNN, 479 pessoas morre...   \n",
       "14  A GasTerra, que compra e comercializa gás em n...   \n",
       "15  Autoridades europeias propuseram pela primeira...   \n",
       "16  As empresas compraram energia de 18 usinas hid...   \n",
       "17  Segundo nota, governos também pretendem encerr...   \n",
       "18  Pelo acordo, os dois países vão trabalhar no d...   \n",
       "19  Presidente da Eletrobras comentou que a empres...   \n",
       "20  Presidente do Senado afirmou que estará aberto...   \n",
       "21  Além do clima imprevisível, ainda não está cla...   \n",
       "22  No Senado os governadores prometem frear o pro...   \n",
       "23  A CNN perguntou aos pré-candidatos à Presidênc...   \n",
       "24  CompensaçãoA última versão do texto do deputad...   \n",
       "25  Ainda de acordo com o balanço da CCEE, o setor...   \n",
       "26  Na avaliação de Forte, considerando que “ningu...   \n",
       "27  FOTO DE ARQUIVO: Fatih Birol, da Agência Inter...   \n",
       "28  Ouvir notíciaA Câmara dos Deputados deve votar...   \n",
       "29  Estatal produziu em média 2,181 milhões de bar...   \n",
       "\n",
       "                                                texts  \\\n",
       "0   Europa tentou reduzir suas importações de gás ...   \n",
       "1   Ouvir notícia\\n\\nO consumo de energia elétrica...   \n",
       "2   Produtores dos EUA devem aumentar a oferta no ...   \n",
       "3   Proposta de acordo é do Comitê Nacional de Sec...   \n",
       "4   Atlas cresceu apostando na geração solar e hoj...   \n",
       "5   Mudança reflete a crescente importância da Chi...   \n",
       "6   Bandeiras tarifárias indicam aos consumidores ...   \n",
       "7   Crise alimentar, por enquanto concentrada em p...   \n",
       "8   Tanques de armazenamento de gás natural na Baí...   \n",
       "9   Fornecimento à Gazprom Germania foi interrompi...   \n",
       "10  Empresa anunciou que a usina foi desconectada ...   \n",
       "11  Moscou suspendeu anteriormente o fornecimento ...   \n",
       "12  A Polônia, cujo acordo de gás com a Rússia exp...   \n",
       "13  Segundo levantamento da CNN, 479 pessoas morre...   \n",
       "14  Funcionário em local de construção do gasoduto...   \n",
       "15  Acordo foi impedido pela relutância de alguns ...   \n",
       "16  Usina de Marimbondo: empresas compraram energi...   \n",
       "17  Segundo nota, governos também pretendem encerr...   \n",
       "18  Os dois lados também se comprometeram a colabo...   \n",
       "19  Presidente da Eletrobras comentou que a empres...   \n",
       "20  Presidente do Senado afirmou que estará aberto...   \n",
       "21  Um inverno rigoroso no hemisfério Norte também...   \n",
       "22  Mas o que se faz agora é tratar uma questão de...   \n",
       "23  Ouvir notícia\\n\\nTramita na Câmara dos Deputad...   \n",
       "24  Projeto tem o objetivo de tornar essenciais be...   \n",
       "25  Em contrapartida, as térmicas tiveram redução ...   \n",
       "26  Votação deve ser pautada pelo presidente da Câ...   \n",
       "27  FOTO DE ARQUIVO: Fatih Birol, da Agência Inter...   \n",
       "28  Ouvir notícia\\n\\nA Câmara dos Deputados deve v...   \n",
       "29  Estatal produziu em média 2,181 milhões de bar...   \n",
       "\n",
       "                                                links  \n",
       "0   https://www.cnnbrasil.com.br/business/golpe-tr...  \n",
       "1   https://www.cnnbrasil.com.br/business/consumo-...  \n",
       "2   https://www.cnnbrasil.com.br/business/demanda-...  \n",
       "3   https://www.cnnbrasil.com.br/business/estados-...  \n",
       "4   https://www.cnnbrasil.com.br/business/atlas-re...  \n",
       "5   https://www.cnnbrasil.com.br/business/china-pa...  \n",
       "6   https://www.cnnbrasil.com.br/business/camara-a...  \n",
       "7   https://www.cnnbrasil.com.br/business/mundo-es...  \n",
       "8   https://www.cnnbrasil.com.br/business/consumo-...  \n",
       "9   https://www.cnnbrasil.com.br/business/sancoes-...  \n",
       "10  https://www.cnnbrasil.com.br/business/eletronu...  \n",
       "11  https://www.cnnbrasil.com.br/business/russia-c...  \n",
       "12  https://www.cnnbrasil.com.br/business/russia-e...  \n",
       "13  https://www.cnnbrasil.com.br/nacional/mortes-p...  \n",
       "14  https://www.cnnbrasil.com.br/internacional/rus...  \n",
       "15  https://www.cnnbrasil.com.br/business/ue-nao-c...  \n",
       "16  https://www.cnnbrasil.com.br/business/leilao-c...  \n",
       "17  https://www.cnnbrasil.com.br/business/transica...  \n",
       "18  https://www.cnnbrasil.com.br/business/eua-e-al...  \n",
       "19  https://www.cnnbrasil.com.br/business/eletrobr...  \n",
       "20  https://www.cnnbrasil.com.br/business/vamos-da...  \n",
       "21  https://www.cnnbrasil.com.br/business/mercados...  \n",
       "22  https://www.cnnbrasil.com.br/business/waack-fo...  \n",
       "23  https://www.cnnbrasil.com.br/politica/pre-cand...  \n",
       "24  https://www.cnnbrasil.com.br/business/entenda-...  \n",
       "25  https://www.cnnbrasil.com.br/business/consumo-...  \n",
       "26  https://www.cnnbrasil.com.br/politica/com-posi...  \n",
       "27  https://www.cnnbrasil.com.br/business/crise-en...  \n",
       "28  https://www.cnnbrasil.com.br/business/teto-par...  \n",
       "29  https://www.cnnbrasil.com.br/business/producao...  "
      ]
     },
     "execution_count": 5,
     "metadata": {},
     "output_type": "execute_result"
    }
   ],
   "source": [
    "# filter by date\n",
    "df_filtered = df[df.dates > '2022-01-01']\n",
    "\n",
    "# check the analyzed dates\n",
    "date_min = str(df_filtered.dates.dt.date.min().strftime('%d/%m/%Y'))+' at '+ str(df_filtered.dates.dt.time.min())\n",
    "date_max = str(df_filtered.dates.dt.date.max().strftime('%d/%m/%Y'))+' at '+ str(df_filtered.dates.dt.time.max())\n",
    "\n",
    "# range of dates\n",
    "date_range = 'Date Rage: from ['+ date_min + '] to [' + date_max + ']'\n",
    "print(date_range)\n",
    "\n",
    "# data vizualization\n",
    "df_filtered\n"
   ]
  },
  {
   "cell_type": "code",
   "execution_count": 7,
   "metadata": {},
   "outputs": [],
   "source": [
    "# NLP: stopword parametres\n",
    "\n",
    "## github patch with Brazilian stopwords\n",
    "PORTUGUESE_STOPWORDS_PATCH_1 = r'https://gist.githubusercontent.com/alopes/5358189/raw/2107d809cca6b83ce3d8e04dbd9463283025284f/stopwords.txt' ##online patch\n",
    "response_PATCH = requests.get(PORTUGUESE_STOPWORDS_PATCH_1) ## accessing via webscrapping\n",
    "pt_stopwords = response_PATCH.text ## assigning to a variable\n",
    "pt_stopwords = pt_stopwords.replace(\" \",\"\").splitlines() ## manipulating extraction\n",
    "\n",
    "# WordCloud text and additional parameters\n",
    "\n",
    "text = \" \".join(s.lower() for s in df_filtered.texts) # lowercasing all the text words\n",
    "wordcloud_theme = df_filtered.theme[0].lower() # get the search theme\n",
    "wordcloud_search_theme = search_theme\n",
    "wordcloud_title = 'Author: CNN - '+ df_filtered.authors[0]+' │ Theme: ' + search_theme +' │ '+ date_range # setting the title\n",
    "\n",
    "\n",
    "## manual stopwords input\n",
    "manual_stopwords = [wordcloud_theme,\n",
    "   'cerca',\n",
    "   'país',\n",
    "   'disse',\n",
    "   'agora',\n",
    "   'ouvir',\n",
    "   'notícia',\n",
    "   'ano' ,\n",
    "   'entanto',\n",
    "   'episódio',\n",
    "   'ainda',\n",
    "   'acordo',\n",
    "   'demanda',\n",
    "   'maior',\n",
    "   'dia',\n",
    "   'segundo',\n",
    "   'pode',\n",
    "   'desde',\n",
    "   'todo',\n",
    "   'sobre',\n",
    "   'getty',\n",
    "   'getty images',\n",
    "   'anadolu',\n",
    "   'images',\n",
    "   'agency',\n",
    "   'ante',\n",
    "   'após',\n",
    "   'segunda',\n",
    "   'terça',\n",
    "   'quarta',\n",
    "   'quinta',\n",
    "   'sexta',\n",
    "   'sabado',\n",
    "   'domingo',\n",
    "   'feira',\n",
    "   'enquanto',\n",
    "   'deve',\n",
    "   'semana',\n",
    "   'nesta',\n",
    "   'caso',\n",
    "   'diz',\n",
    "   'hoje',\n",
    "   'brasil',\n",
    "   'empresa',\n",
    "   'grande',\n",
    "   'fonte',\n",
    "   'renovável',\n",
    "   'afirma',\n",
    "   'área',\n",
    "   'uso',\n",
    "   'capacidade',\n",
    "   'apenas',\n",
    "   'partir',\n",
    "   'projeto',\n",
    "   'cnn',\n",
    "   'passado',\n",
    "   'partir',\n",
    "   'porque',\n",
    "   'custo',\n",
    "   'exemplo',\n",
    "   'especialista',\n",
    "   'skydweller',\n",
    "   'vai',\n",
    "   'outra',\n",
    "   'gera',\n",
    "   'loja']\n",
    "\n",
    "## stopwords used\n",
    "stop_words  = list(pt_stopwords) + list(STOPWORDS) + list(manual_stopwords) \n",
    "\n",
    "\n",
    "\n",
    "# WordCloud NLP algorithm\n",
    "\n",
    "## WordCloud Figure\n",
    "wordcloud = WordCloud(min_font_size=50, \n",
    "               max_font_size=500, \n",
    "               background_color='white', \n",
    "            #    max_words = 80,\n",
    "               mode=\"RGB\",\n",
    "               colormap='tab10',\n",
    "               stopwords=stop_words,\n",
    "               width=3000, \n",
    "               height=1500,\n",
    "               normalize_plurals= True\n",
    ").generate(text)\n",
    "\n",
    "## WordCloud Text Count\n",
    "wordcloud_text = WordCloud(min_font_size=50, \n",
    "               max_font_size=500, \n",
    "               background_color='white', \n",
    "               mode=\"RGB\",\n",
    "               colormap='tab10',\n",
    "               stopwords=stop_words,\n",
    "               width=3000, \n",
    "               height=1500,\n",
    "               normalize_plurals= True\n",
    ").process_text(text)\n"
   ]
  },
  {
   "cell_type": "code",
   "execution_count": 8,
   "metadata": {},
   "outputs": [
    {
     "data": {
      "image/png": "[encoded data removed]",
      "text/plain": [
       "<Figure size 1440x720 with 1 Axes>"
      ]
     },
     "metadata": {
      "needs_background": "light"
     },
     "output_type": "display_data"
    },
    {
     "data": {
      "text/plain": [
       "<Figure size 432x288 with 0 Axes>"
      ]
     },
     "metadata": {},
     "output_type": "display_data"
    }
   ],
   "source": [
    "# Ploting the WordCloud figure\n",
    "py.figure(figsize=(20,10))\n",
    "py.title(wordcloud_title, fontsize=10, color=\"red\")\n",
    "py.imshow(wordcloud, interpolation=\"bilinear\")\n",
    "py.axis(\"off\")\n",
    "\n",
    "fig1 = py.gcf()\n",
    "py.show()\n",
    "py.draw()\n",
    "fig1.savefig(search_theme+'.png', dpi=100)\n"
   ]
  },
  {
   "cell_type": "code",
   "execution_count": 9,
   "metadata": {},
   "outputs": [
    {
     "data": {
      "application/vnd.plotly.v1+json": {
       "config": {
        "plotlyServerURL": "https://plot.ly"
       },
       "data": [
        {
         "hovertemplate": "<b>%{hovertext}</b><br><br>word=preço<br>index=%{x}<br>count=%{marker.size}<extra></extra>",
         "hovertext": [
          "preço"
         ],
         "legendgroup": "preço",
         "marker": {
          "color": "#636efa",
          "size": [
           66
          ],
          "sizemode": "area",
          "sizeref": 0.018333333333333333,
          "symbol": "circle"
         },
         "mode": "markers",
         "name": "preço",
         "orientation": "v",
         "showlegend": true,
         "type": "scatter",
         "x": [
          0
         ],
         "xaxis": "x",
         "y": [
          66
         ],
         "yaxis": "y"
        },
        {
         "hovertemplate": "<b>%{hovertext}</b><br><br>word=estado<br>index=%{x}<br>count=%{marker.size}<extra></extra>",
         "hovertext": [
          "estado"
         ],
         "legendgroup": "estado",
         "marker": {
          "color": "#EF553B",
          "size": [
           52
          ],
          "sizemode": "area",
          "sizeref": 0.018333333333333333,
          "symbol": "circle"
         },
         "mode": "markers",
         "name": "estado",
         "orientation": "v",
         "showlegend": true,
         "type": "scatter",
         "x": [
          1
         ],
         "xaxis": "x",
         "y": [
          52
         ],
         "yaxis": "y"
        },
        {
         "hovertemplate": "<b>%{hovertext}</b><br><br>word=gás<br>index=%{x}<br>count=%{marker.size}<extra></extra>",
         "hovertext": [
          "gás"
         ],
         "legendgroup": "gás",
         "marker": {
          "color": "#00cc96",
          "size": [
           49
          ],
          "sizemode": "area",
          "sizeref": 0.018333333333333333,
          "symbol": "circle"
         },
         "mode": "markers",
         "name": "gás",
         "orientation": "v",
         "showlegend": true,
         "type": "scatter",
         "x": [
          2
         ],
         "xaxis": "x",
         "y": [
          49
         ],
         "yaxis": "y"
        },
        {
         "hovertemplate": "<b>%{hovertext}</b><br><br>word=combustíveis<br>index=%{x}<br>count=%{marker.size}<extra></extra>",
         "hovertext": [
          "combustíveis"
         ],
         "legendgroup": "combustíveis",
         "marker": {
          "color": "#ab63fa",
          "size": [
           37
          ],
          "sizemode": "area",
          "sizeref": 0.018333333333333333,
          "symbol": "circle"
         },
         "mode": "markers",
         "name": "combustíveis",
         "orientation": "v",
         "showlegend": true,
         "type": "scatter",
         "x": [
          3
         ],
         "xaxis": "x",
         "y": [
          37
         ],
         "yaxis": "y"
        },
        {
         "hovertemplate": "<b>%{hovertext}</b><br><br>word=rússia<br>index=%{x}<br>count=%{marker.size}<extra></extra>",
         "hovertext": [
          "rússia"
         ],
         "legendgroup": "rússia",
         "marker": {
          "color": "#FFA15A",
          "size": [
           36
          ],
          "sizemode": "area",
          "sizeref": 0.018333333333333333,
          "symbol": "circle"
         },
         "mode": "markers",
         "name": "rússia",
         "orientation": "v",
         "showlegend": true,
         "type": "scatter",
         "x": [
          4
         ],
         "xaxis": "x",
         "y": [
          36
         ],
         "yaxis": "y"
        },
        {
         "hovertemplate": "<b>%{hovertext}</b><br><br>word=icms<br>index=%{x}<br>count=%{marker.size}<extra></extra>",
         "hovertext": [
          "icms"
         ],
         "legendgroup": "icms",
         "marker": {
          "color": "#19d3f3",
          "size": [
           31
          ],
          "sizemode": "area",
          "sizeref": 0.018333333333333333,
          "symbol": "circle"
         },
         "mode": "markers",
         "name": "icms",
         "orientation": "v",
         "showlegend": true,
         "type": "scatter",
         "x": [
          5
         ],
         "xaxis": "x",
         "y": [
          31
         ],
         "yaxis": "y"
        },
        {
         "hovertemplate": "<b>%{hovertext}</b><br><br>word=petróleo<br>index=%{x}<br>count=%{marker.size}<extra></extra>",
         "hovertext": [
          "petróleo"
         ],
         "legendgroup": "petróleo",
         "marker": {
          "color": "#FF6692",
          "size": [
           31
          ],
          "sizemode": "area",
          "sizeref": 0.018333333333333333,
          "symbol": "circle"
         },
         "mode": "markers",
         "name": "petróleo",
         "orientation": "v",
         "showlegend": true,
         "type": "scatter",
         "x": [
          6
         ],
         "xaxis": "x",
         "y": [
          31
         ],
         "yaxis": "y"
        },
        {
         "hovertemplate": "<b>%{hovertext}</b><br><br>word=gazprom<br>index=%{x}<br>count=%{marker.size}<extra></extra>",
         "hovertext": [
          "gazprom"
         ],
         "legendgroup": "gazprom",
         "marker": {
          "color": "#B6E880",
          "size": [
           28
          ],
          "sizemode": "area",
          "sizeref": 0.018333333333333333,
          "symbol": "circle"
         },
         "mode": "markers",
         "name": "gazprom",
         "orientation": "v",
         "showlegend": true,
         "type": "scatter",
         "x": [
          7
         ],
         "xaxis": "x",
         "y": [
          28
         ],
         "yaxis": "y"
        },
        {
         "hovertemplate": "<b>%{hovertext}</b><br><br>word=mercado<br>index=%{x}<br>count=%{marker.size}<extra></extra>",
         "hovertext": [
          "mercado"
         ],
         "legendgroup": "mercado",
         "marker": {
          "color": "#FF97FF",
          "size": [
           28
          ],
          "sizemode": "area",
          "sizeref": 0.018333333333333333,
          "symbol": "circle"
         },
         "mode": "markers",
         "name": "mercado",
         "orientation": "v",
         "showlegend": true,
         "type": "scatter",
         "x": [
          8
         ],
         "xaxis": "x",
         "y": [
          28
         ],
         "yaxis": "y"
        },
        {
         "hovertemplate": "<b>%{hovertext}</b><br><br>word=milhões<br>index=%{x}<br>count=%{marker.size}<extra></extra>",
         "hovertext": [
          "milhões"
         ],
         "legendgroup": "milhões",
         "marker": {
          "color": "#FECB52",
          "size": [
           27
          ],
          "sizemode": "area",
          "sizeref": 0.018333333333333333,
          "symbol": "circle"
         },
         "mode": "markers",
         "name": "milhões",
         "orientation": "v",
         "showlegend": true,
         "type": "scatter",
         "x": [
          9
         ],
         "xaxis": "x",
         "y": [
          27
         ],
         "yaxis": "y"
        },
        {
         "hovertemplate": "<b>%{hovertext}</b><br><br>word=gás natural<br>index=%{x}<br>count=%{marker.size}<extra></extra>",
         "hovertext": [
          "gás natural"
         ],
         "legendgroup": "gás natural",
         "marker": {
          "color": "#636efa",
          "size": [
           26
          ],
          "sizemode": "area",
          "sizeref": 0.018333333333333333,
          "symbol": "circle"
         },
         "mode": "markers",
         "name": "gás natural",
         "orientation": "v",
         "showlegend": true,
         "type": "scatter",
         "x": [
          10
         ],
         "xaxis": "x",
         "y": [
          26
         ],
         "yaxis": "y"
        },
        {
         "hovertemplate": "<b>%{hovertext}</b><br><br>word=consumo<br>index=%{x}<br>count=%{marker.size}<extra></extra>",
         "hovertext": [
          "consumo"
         ],
         "legendgroup": "consumo",
         "marker": {
          "color": "#EF553B",
          "size": [
           24
          ],
          "sizemode": "area",
          "sizeref": 0.018333333333333333,
          "symbol": "circle"
         },
         "mode": "markers",
         "name": "consumo",
         "orientation": "v",
         "showlegend": true,
         "type": "scatter",
         "x": [
          11
         ],
         "xaxis": "x",
         "y": [
          24
         ],
         "yaxis": "y"
        },
        {
         "hovertemplate": "<b>%{hovertext}</b><br><br>word=serviço<br>index=%{x}<br>count=%{marker.size}<extra></extra>",
         "hovertext": [
          "serviço"
         ],
         "legendgroup": "serviço",
         "marker": {
          "color": "#00cc96",
          "size": [
           24
          ],
          "sizemode": "area",
          "sizeref": 0.018333333333333333,
          "symbol": "circle"
         },
         "mode": "markers",
         "name": "serviço",
         "orientation": "v",
         "showlegend": true,
         "type": "scatter",
         "x": [
          12
         ],
         "xaxis": "x",
         "y": [
          24
         ],
         "yaxis": "y"
        },
        {
         "hovertemplate": "<b>%{hovertext}</b><br><br>word=imposto<br>index=%{x}<br>count=%{marker.size}<extra></extra>",
         "hovertext": [
          "imposto"
         ],
         "legendgroup": "imposto",
         "marker": {
          "color": "#ab63fa",
          "size": [
           24
          ],
          "sizemode": "area",
          "sizeref": 0.018333333333333333,
          "symbol": "circle"
         },
         "mode": "markers",
         "name": "imposto",
         "orientation": "v",
         "showlegend": true,
         "type": "scatter",
         "x": [
          13
         ],
         "xaxis": "x",
         "y": [
          24
         ],
         "yaxis": "y"
        },
        {
         "hovertemplate": "<b>%{hovertext}</b><br><br>word=fornecimento<br>index=%{x}<br>count=%{marker.size}<extra></extra>",
         "hovertext": [
          "fornecimento"
         ],
         "legendgroup": "fornecimento",
         "marker": {
          "color": "#FFA15A",
          "size": [
           24
          ],
          "sizemode": "area",
          "sizeref": 0.018333333333333333,
          "symbol": "circle"
         },
         "mode": "markers",
         "name": "fornecimento",
         "orientation": "v",
         "showlegend": true,
         "type": "scatter",
         "x": [
          14
         ],
         "xaxis": "x",
         "y": [
          24
         ],
         "yaxis": "y"
        },
        {
         "hovertemplate": "<b>%{hovertext}</b><br><br>word=bilhões<br>index=%{x}<br>count=%{marker.size}<extra></extra>",
         "hovertext": [
          "bilhões"
         ],
         "legendgroup": "bilhões",
         "marker": {
          "color": "#19d3f3",
          "size": [
           23
          ],
          "sizemode": "area",
          "sizeref": 0.018333333333333333,
          "symbol": "circle"
         },
         "mode": "markers",
         "name": "bilhões",
         "orientation": "v",
         "showlegend": true,
         "type": "scatter",
         "x": [
          15
         ],
         "xaxis": "x",
         "y": [
          23
         ],
         "yaxis": "y"
        },
        {
         "hovertemplate": "<b>%{hovertext}</b><br><br>word=aumento<br>index=%{x}<br>count=%{marker.size}<extra></extra>",
         "hovertext": [
          "aumento"
         ],
         "legendgroup": "aumento",
         "marker": {
          "color": "#FF6692",
          "size": [
           23
          ],
          "sizemode": "area",
          "sizeref": 0.018333333333333333,
          "symbol": "circle"
         },
         "mode": "markers",
         "name": "aumento",
         "orientation": "v",
         "showlegend": true,
         "type": "scatter",
         "x": [
          16
         ],
         "xaxis": "x",
         "y": [
          23
         ],
         "yaxis": "y"
        },
        {
         "hovertemplate": "<b>%{hovertext}</b><br><br>word=produção<br>index=%{x}<br>count=%{marker.size}<extra></extra>",
         "hovertext": [
          "produção"
         ],
         "legendgroup": "produção",
         "marker": {
          "color": "#B6E880",
          "size": [
           22
          ],
          "sizemode": "area",
          "sizeref": 0.018333333333333333,
          "symbol": "circle"
         },
         "mode": "markers",
         "name": "produção",
         "orientation": "v",
         "showlegend": true,
         "type": "scatter",
         "x": [
          17
         ],
         "xaxis": "x",
         "y": [
          22
         ],
         "yaxis": "y"
        },
        {
         "hovertemplate": "<b>%{hovertext}</b><br><br>word=presidente<br>index=%{x}<br>count=%{marker.size}<extra></extra>",
         "hovertext": [
          "presidente"
         ],
         "legendgroup": "presidente",
         "marker": {
          "color": "#FF97FF",
          "size": [
           21
          ],
          "sizemode": "area",
          "sizeref": 0.018333333333333333,
          "symbol": "circle"
         },
         "mode": "markers",
         "name": "presidente",
         "orientation": "v",
         "showlegend": true,
         "type": "scatter",
         "x": [
          18
         ],
         "xaxis": "x",
         "y": [
          21
         ],
         "yaxis": "y"
        },
        {
         "hovertemplate": "<b>%{hovertext}</b><br><br>word=europa<br>index=%{x}<br>count=%{marker.size}<extra></extra>",
         "hovertext": [
          "europa"
         ],
         "legendgroup": "europa",
         "marker": {
          "color": "#FECB52",
          "size": [
           21
          ],
          "sizemode": "area",
          "sizeref": 0.018333333333333333,
          "symbol": "circle"
         },
         "mode": "markers",
         "name": "europa",
         "orientation": "v",
         "showlegend": true,
         "type": "scatter",
         "x": [
          19
         ],
         "xaxis": "x",
         "y": [
          21
         ],
         "yaxis": "y"
        },
        {
         "hovertemplate": "<b>%{hovertext}</b><br><br>word=câmara<br>index=%{x}<br>count=%{marker.size}<extra></extra>",
         "hovertext": [
          "câmara"
         ],
         "legendgroup": "câmara",
         "marker": {
          "color": "#636efa",
          "size": [
           20
          ],
          "sizemode": "area",
          "sizeref": 0.018333333333333333,
          "symbol": "circle"
         },
         "mode": "markers",
         "name": "câmara",
         "orientation": "v",
         "showlegend": true,
         "type": "scatter",
         "x": [
          20
         ],
         "xaxis": "x",
         "y": [
          20
         ],
         "yaxis": "y"
        },
        {
         "hovertemplate": "<b>%{hovertext}</b><br><br>word=elétrica<br>index=%{x}<br>count=%{marker.size}<extra></extra>",
         "hovertext": [
          "elétrica"
         ],
         "legendgroup": "elétrica",
         "marker": {
          "color": "#EF553B",
          "size": [
           20
          ],
          "sizemode": "area",
          "sizeref": 0.018333333333333333,
          "symbol": "circle"
         },
         "mode": "markers",
         "name": "elétrica",
         "orientation": "v",
         "showlegend": true,
         "type": "scatter",
         "x": [
          21
         ],
         "xaxis": "x",
         "y": [
          20
         ],
         "yaxis": "y"
        },
        {
         "hovertemplate": "<b>%{hovertext}</b><br><br>word=deputado<br>index=%{x}<br>count=%{marker.size}<extra></extra>",
         "hovertext": [
          "deputado"
         ],
         "legendgroup": "deputado",
         "marker": {
          "color": "#00cc96",
          "size": [
           19
          ],
          "sizemode": "area",
          "sizeref": 0.018333333333333333,
          "symbol": "circle"
         },
         "mode": "markers",
         "name": "deputado",
         "orientation": "v",
         "showlegend": true,
         "type": "scatter",
         "x": [
          22
         ],
         "xaxis": "x",
         "y": [
          19
         ],
         "yaxis": "y"
        },
        {
         "hovertemplate": "<b>%{hovertext}</b><br><br>word=conta<br>index=%{x}<br>count=%{marker.size}<extra></extra>",
         "hovertext": [
          "conta"
         ],
         "legendgroup": "conta",
         "marker": {
          "color": "#ab63fa",
          "size": [
           19
          ],
          "sizemode": "area",
          "sizeref": 0.018333333333333333,
          "symbol": "circle"
         },
         "mode": "markers",
         "name": "conta",
         "orientation": "v",
         "showlegend": true,
         "type": "scatter",
         "x": [
          23
         ],
         "xaxis": "x",
         "y": [
          19
         ],
         "yaxis": "y"
        },
        {
         "hovertemplate": "<b>%{hovertext}</b><br><br>word=petrobras<br>index=%{x}<br>count=%{marker.size}<extra></extra>",
         "hovertext": [
          "petrobras"
         ],
         "legendgroup": "petrobras",
         "marker": {
          "color": "#FFA15A",
          "size": [
           18
          ],
          "sizemode": "area",
          "sizeref": 0.018333333333333333,
          "symbol": "circle"
         },
         "mode": "markers",
         "name": "petrobras",
         "orientation": "v",
         "showlegend": true,
         "type": "scatter",
         "x": [
          24
         ],
         "xaxis": "x",
         "y": [
          18
         ],
         "yaxis": "y"
        },
        {
         "hovertemplate": "<b>%{hovertext}</b><br><br>word=pagamento<br>index=%{x}<br>count=%{marker.size}<extra></extra>",
         "hovertext": [
          "pagamento"
         ],
         "legendgroup": "pagamento",
         "marker": {
          "color": "#19d3f3",
          "size": [
           17
          ],
          "sizemode": "area",
          "sizeref": 0.018333333333333333,
          "symbol": "circle"
         },
         "mode": "markers",
         "name": "pagamento",
         "orientation": "v",
         "showlegend": true,
         "type": "scatter",
         "x": [
          25
         ],
         "xaxis": "x",
         "y": [
          17
         ],
         "yaxis": "y"
        },
        {
         "hovertemplate": "<b>%{hovertext}</b><br><br>word=países<br>index=%{x}<br>count=%{marker.size}<extra></extra>",
         "hovertext": [
          "países"
         ],
         "legendgroup": "países",
         "marker": {
          "color": "#FF6692",
          "size": [
           17
          ],
          "sizemode": "area",
          "sizeref": 0.018333333333333333,
          "symbol": "circle"
         },
         "mode": "markers",
         "name": "países",
         "orientation": "v",
         "showlegend": true,
         "type": "scatter",
         "x": [
          26
         ],
         "xaxis": "x",
         "y": [
          17
         ],
         "yaxis": "y"
        },
        {
         "hovertemplate": "<b>%{hovertext}</b><br><br>word=todos<br>index=%{x}<br>count=%{marker.size}<extra></extra>",
         "hovertext": [
          "todos"
         ],
         "legendgroup": "todos",
         "marker": {
          "color": "#B6E880",
          "size": [
           17
          ],
          "sizemode": "area",
          "sizeref": 0.018333333333333333,
          "symbol": "circle"
         },
         "mode": "markers",
         "name": "todos",
         "orientation": "v",
         "showlegend": true,
         "type": "scatter",
         "x": [
          27
         ],
         "xaxis": "x",
         "y": [
          17
         ],
         "yaxis": "y"
        },
        {
         "hovertemplate": "<b>%{hovertext}</b><br><br>word=afirmou<br>index=%{x}<br>count=%{marker.size}<extra></extra>",
         "hovertext": [
          "afirmou"
         ],
         "legendgroup": "afirmou",
         "marker": {
          "color": "#FF97FF",
          "size": [
           16
          ],
          "sizemode": "area",
          "sizeref": 0.018333333333333333,
          "symbol": "circle"
         },
         "mode": "markers",
         "name": "afirmou",
         "orientation": "v",
         "showlegend": true,
         "type": "scatter",
         "x": [
          28
         ],
         "xaxis": "x",
         "y": [
          16
         ],
         "yaxis": "y"
        },
        {
         "hovertemplate": "<b>%{hovertext}</b><br><br>word=ucrânia<br>index=%{x}<br>count=%{marker.size}<extra></extra>",
         "hovertext": [
          "ucrânia"
         ],
         "legendgroup": "ucrânia",
         "marker": {
          "color": "#FECB52",
          "size": [
           16
          ],
          "sizemode": "area",
          "sizeref": 0.018333333333333333,
          "symbol": "circle"
         },
         "mode": "markers",
         "name": "ucrânia",
         "orientation": "v",
         "showlegend": true,
         "type": "scatter",
         "x": [
          29
         ],
         "xaxis": "x",
         "y": [
          16
         ],
         "yaxis": "y"
        },
        {
         "hovertemplate": "<b>%{hovertext}</b><br><br>word=usina<br>index=%{x}<br>count=%{marker.size}<extra></extra>",
         "hovertext": [
          "usina"
         ],
         "legendgroup": "usina",
         "marker": {
          "color": "#636efa",
          "size": [
           16
          ],
          "sizemode": "area",
          "sizeref": 0.018333333333333333,
          "symbol": "circle"
         },
         "mode": "markers",
         "name": "usina",
         "orientation": "v",
         "showlegend": true,
         "type": "scatter",
         "x": [
          30
         ],
         "xaxis": "x",
         "y": [
          16
         ],
         "yaxis": "y"
        },
        {
         "hovertemplate": "<b>%{hovertext}</b><br><br>word=alta<br>index=%{x}<br>count=%{marker.size}<extra></extra>",
         "hovertext": [
          "alta"
         ],
         "legendgroup": "alta",
         "marker": {
          "color": "#EF553B",
          "size": [
           15
          ],
          "sizemode": "area",
          "sizeref": 0.018333333333333333,
          "symbol": "circle"
         },
         "mode": "markers",
         "name": "alta",
         "orientation": "v",
         "showlegend": true,
         "type": "scatter",
         "x": [
          31
         ],
         "xaxis": "x",
         "y": [
          15
         ],
         "yaxis": "y"
        },
        {
         "hovertemplate": "<b>%{hovertext}</b><br><br>word=combustível<br>index=%{x}<br>count=%{marker.size}<extra></extra>",
         "hovertext": [
          "combustível"
         ],
         "legendgroup": "combustível",
         "marker": {
          "color": "#00cc96",
          "size": [
           15
          ],
          "sizemode": "area",
          "sizeref": 0.018333333333333333,
          "symbol": "circle"
         },
         "mode": "markers",
         "name": "combustível",
         "orientation": "v",
         "showlegend": true,
         "type": "scatter",
         "x": [
          32
         ],
         "xaxis": "x",
         "y": [
          15
         ],
         "yaxis": "y"
        },
        {
         "hovertemplate": "<b>%{hovertext}</b><br><br>word=política<br>index=%{x}<br>count=%{marker.size}<extra></extra>",
         "hovertext": [
          "política"
         ],
         "legendgroup": "política",
         "marker": {
          "color": "#ab63fa",
          "size": [
           15
          ],
          "sizemode": "area",
          "sizeref": 0.018333333333333333,
          "symbol": "circle"
         },
         "mode": "markers",
         "name": "política",
         "orientation": "v",
         "showlegend": true,
         "type": "scatter",
         "x": [
          33
         ],
         "xaxis": "x",
         "y": [
          15
         ],
         "yaxis": "y"
        },
        {
         "hovertemplate": "<b>%{hovertext}</b><br><br>word=empresas<br>index=%{x}<br>count=%{marker.size}<extra></extra>",
         "hovertext": [
          "empresas"
         ],
         "legendgroup": "empresas",
         "marker": {
          "color": "#FFA15A",
          "size": [
           15
          ],
          "sizemode": "area",
          "sizeref": 0.018333333333333333,
          "symbol": "circle"
         },
         "mode": "markers",
         "name": "empresas",
         "orientation": "v",
         "showlegend": true,
         "type": "scatter",
         "x": [
          34
         ],
         "xaxis": "x",
         "y": [
          15
         ],
         "yaxis": "y"
        },
        {
         "hovertemplate": "<b>%{hovertext}</b><br><br>word=novo<br>index=%{x}<br>count=%{marker.size}<extra></extra>",
         "hovertext": [
          "novo"
         ],
         "legendgroup": "novo",
         "marker": {
          "color": "#19d3f3",
          "size": [
           15
          ],
          "sizemode": "area",
          "sizeref": 0.018333333333333333,
          "symbol": "circle"
         },
         "mode": "markers",
         "name": "novo",
         "orientation": "v",
         "showlegend": true,
         "type": "scatter",
         "x": [
          35
         ],
         "xaxis": "x",
         "y": [
          15
         ],
         "yaxis": "y"
        },
        {
         "hovertemplate": "<b>%{hovertext}</b><br><br>word=nacional<br>index=%{x}<br>count=%{marker.size}<extra></extra>",
         "hovertext": [
          "nacional"
         ],
         "legendgroup": "nacional",
         "marker": {
          "color": "#FF6692",
          "size": [
           15
          ],
          "sizemode": "area",
          "sizeref": 0.018333333333333333,
          "symbol": "circle"
         },
         "mode": "markers",
         "name": "nacional",
         "orientation": "v",
         "showlegend": true,
         "type": "scatter",
         "x": [
          36
         ],
         "xaxis": "x",
         "y": [
          15
         ],
         "yaxis": "y"
        },
        {
         "hovertemplate": "<b>%{hovertext}</b><br><br>word=us<br>index=%{x}<br>count=%{marker.size}<extra></extra>",
         "hovertext": [
          "us"
         ],
         "legendgroup": "us",
         "marker": {
          "color": "#B6E880",
          "size": [
           15
          ],
          "sizemode": "area",
          "sizeref": 0.018333333333333333,
          "symbol": "circle"
         },
         "mode": "markers",
         "name": "us",
         "orientation": "v",
         "showlegend": true,
         "type": "scatter",
         "x": [
          37
         ],
         "xaxis": "x",
         "y": [
          15
         ],
         "yaxis": "y"
        },
        {
         "hovertemplate": "<b>%{hovertext}</b><br><br>word=redução<br>index=%{x}<br>count=%{marker.size}<extra></extra>",
         "hovertext": [
          "redução"
         ],
         "legendgroup": "redução",
         "marker": {
          "color": "#FF97FF",
          "size": [
           15
          ],
          "sizemode": "area",
          "sizeref": 0.018333333333333333,
          "symbol": "circle"
         },
         "mode": "markers",
         "name": "redução",
         "orientation": "v",
         "showlegend": true,
         "type": "scatter",
         "x": [
          38
         ],
         "xaxis": "x",
         "y": [
          15
         ],
         "yaxis": "y"
        },
        {
         "hovertemplate": "<b>%{hovertext}</b><br><br>word=alemanha<br>index=%{x}<br>count=%{marker.size}<extra></extra>",
         "hovertext": [
          "alemanha"
         ],
         "legendgroup": "alemanha",
         "marker": {
          "color": "#FECB52",
          "size": [
           14
          ],
          "sizemode": "area",
          "sizeref": 0.018333333333333333,
          "symbol": "circle"
         },
         "mode": "markers",
         "name": "alemanha",
         "orientation": "v",
         "showlegend": true,
         "type": "scatter",
         "x": [
          39
         ],
         "xaxis": "x",
         "y": [
          14
         ],
         "yaxis": "y"
        },
        {
         "hovertemplate": "<b>%{hovertext}</b><br><br>word=gnl<br>index=%{x}<br>count=%{marker.size}<extra></extra>",
         "hovertext": [
          "gnl"
         ],
         "legendgroup": "gnl",
         "marker": {
          "color": "#636efa",
          "size": [
           14
          ],
          "sizemode": "area",
          "sizeref": 0.018333333333333333,
          "symbol": "circle"
         },
         "mode": "markers",
         "name": "gnl",
         "orientation": "v",
         "showlegend": true,
         "type": "scatter",
         "x": [
          40
         ],
         "xaxis": "x",
         "y": [
          14
         ],
         "yaxis": "y"
        },
        {
         "hovertemplate": "<b>%{hovertext}</b><br><br>word=transporte<br>index=%{x}<br>count=%{marker.size}<extra></extra>",
         "hovertext": [
          "transporte"
         ],
         "legendgroup": "transporte",
         "marker": {
          "color": "#EF553B",
          "size": [
           14
          ],
          "sizemode": "area",
          "sizeref": 0.018333333333333333,
          "symbol": "circle"
         },
         "mode": "markers",
         "name": "transporte",
         "orientation": "v",
         "showlegend": true,
         "type": "scatter",
         "x": [
          41
         ],
         "xaxis": "x",
         "y": [
          14
         ],
         "yaxis": "y"
        },
        {
         "hovertemplate": "<b>%{hovertext}</b><br><br>word=crescimento<br>index=%{x}<br>count=%{marker.size}<extra></extra>",
         "hovertext": [
          "crescimento"
         ],
         "legendgroup": "crescimento",
         "marker": {
          "color": "#00cc96",
          "size": [
           14
          ],
          "sizemode": "area",
          "sizeref": 0.018333333333333333,
          "symbol": "circle"
         },
         "mode": "markers",
         "name": "crescimento",
         "orientation": "v",
         "showlegend": true,
         "type": "scatter",
         "x": [
          42
         ],
         "xaxis": "x",
         "y": [
          14
         ],
         "yaxis": "y"
        },
        {
         "hovertemplate": "<b>%{hovertext}</b><br><br>word=economia<br>index=%{x}<br>count=%{marker.size}<extra></extra>",
         "hovertext": [
          "economia"
         ],
         "legendgroup": "economia",
         "marker": {
          "color": "#ab63fa",
          "size": [
           14
          ],
          "sizemode": "area",
          "sizeref": 0.018333333333333333,
          "symbol": "circle"
         },
         "mode": "markers",
         "name": "economia",
         "orientation": "v",
         "showlegend": true,
         "type": "scatter",
         "x": [
          43
         ],
         "xaxis": "x",
         "y": [
          14
         ],
         "yaxis": "y"
        },
        {
         "hovertemplate": "<b>%{hovertext}</b><br><br>word=final<br>index=%{x}<br>count=%{marker.size}<extra></extra>",
         "hovertext": [
          "final"
         ],
         "legendgroup": "final",
         "marker": {
          "color": "#FFA15A",
          "size": [
           14
          ],
          "sizemode": "area",
          "sizeref": 0.018333333333333333,
          "symbol": "circle"
         },
         "mode": "markers",
         "name": "final",
         "orientation": "v",
         "showlegend": true,
         "type": "scatter",
         "x": [
          44
         ],
         "xaxis": "x",
         "y": [
          14
         ],
         "yaxis": "y"
        },
        {
         "hovertemplate": "<b>%{hovertext}</b><br><br>word=produto<br>index=%{x}<br>count=%{marker.size}<extra></extra>",
         "hovertext": [
          "produto"
         ],
         "legendgroup": "produto",
         "marker": {
          "color": "#19d3f3",
          "size": [
           14
          ],
          "sizemode": "area",
          "sizeref": 0.018333333333333333,
          "symbol": "circle"
         },
         "mode": "markers",
         "name": "produto",
         "orientation": "v",
         "showlegend": true,
         "type": "scatter",
         "x": [
          45
         ],
         "xaxis": "x",
         "y": [
          14
         ],
         "yaxis": "y"
        },
        {
         "hovertemplate": "<b>%{hovertext}</b><br><br>word=geração<br>index=%{x}<br>count=%{marker.size}<extra></extra>",
         "hovertext": [
          "geração"
         ],
         "legendgroup": "geração",
         "marker": {
          "color": "#FF6692",
          "size": [
           14
          ],
          "sizemode": "area",
          "sizeref": 0.018333333333333333,
          "symbol": "circle"
         },
         "mode": "markers",
         "name": "geração",
         "orientation": "v",
         "showlegend": true,
         "type": "scatter",
         "x": [
          46
         ],
         "xaxis": "x",
         "y": [
          14
         ],
         "yaxis": "y"
        },
        {
         "hovertemplate": "<b>%{hovertext}</b><br><br>word=proposta<br>index=%{x}<br>count=%{marker.size}<extra></extra>",
         "hovertext": [
          "proposta"
         ],
         "legendgroup": "proposta",
         "marker": {
          "color": "#B6E880",
          "size": [
           14
          ],
          "sizemode": "area",
          "sizeref": 0.018333333333333333,
          "symbol": "circle"
         },
         "mode": "markers",
         "name": "proposta",
         "orientation": "v",
         "showlegend": true,
         "type": "scatter",
         "x": [
          47
         ],
         "xaxis": "x",
         "y": [
          14
         ],
         "yaxis": "y"
        },
        {
         "hovertemplate": "<b>%{hovertext}</b><br><br>word=medida<br>index=%{x}<br>count=%{marker.size}<extra></extra>",
         "hovertext": [
          "medida"
         ],
         "legendgroup": "medida",
         "marker": {
          "color": "#FF97FF",
          "size": [
           13
          ],
          "sizemode": "area",
          "sizeref": 0.018333333333333333,
          "symbol": "circle"
         },
         "mode": "markers",
         "name": "medida",
         "orientation": "v",
         "showlegend": true,
         "type": "scatter",
         "x": [
          48
         ],
         "xaxis": "x",
         "y": [
          13
         ],
         "yaxis": "y"
        },
        {
         "hovertemplate": "<b>%{hovertext}</b><br><br>word=federal<br>index=%{x}<br>count=%{marker.size}<extra></extra>",
         "hovertext": [
          "federal"
         ],
         "legendgroup": "federal",
         "marker": {
          "color": "#FECB52",
          "size": [
           13
          ],
          "sizemode": "area",
          "sizeref": 0.018333333333333333,
          "symbol": "circle"
         },
         "mode": "markers",
         "name": "federal",
         "orientation": "v",
         "showlegend": true,
         "type": "scatter",
         "x": [
          49
         ],
         "xaxis": "x",
         "y": [
          13
         ],
         "yaxis": "y"
        },
        {
         "hovertemplate": "<b>%{hovertext}</b><br><br>word=período<br>index=%{x}<br>count=%{marker.size}<extra></extra>",
         "hovertext": [
          "período"
         ],
         "legendgroup": "período",
         "marker": {
          "color": "#636efa",
          "size": [
           13
          ],
          "sizemode": "area",
          "sizeref": 0.018333333333333333,
          "symbol": "circle"
         },
         "mode": "markers",
         "name": "período",
         "orientation": "v",
         "showlegend": true,
         "type": "scatter",
         "x": [
          50
         ],
         "xaxis": "x",
         "y": [
          13
         ],
         "yaxis": "y"
        },
        {
         "hovertemplate": "<b>%{hovertext}</b><br><br>word=relação<br>index=%{x}<br>count=%{marker.size}<extra></extra>",
         "hovertext": [
          "relação"
         ],
         "legendgroup": "relação",
         "marker": {
          "color": "#EF553B",
          "size": [
           13
          ],
          "sizemode": "area",
          "sizeref": 0.018333333333333333,
          "symbol": "circle"
         },
         "mode": "markers",
         "name": "relação",
         "orientation": "v",
         "showlegend": true,
         "type": "scatter",
         "x": [
          51
         ],
         "xaxis": "x",
         "y": [
          13
         ],
         "yaxis": "y"
        },
        {
         "hovertemplate": "<b>%{hovertext}</b><br><br>word=projetos<br>index=%{x}<br>count=%{marker.size}<extra></extra>",
         "hovertext": [
          "projetos"
         ],
         "legendgroup": "projetos",
         "marker": {
          "color": "#00cc96",
          "size": [
           13
          ],
          "sizemode": "area",
          "sizeref": 0.018333333333333333,
          "symbol": "circle"
         },
         "mode": "markers",
         "name": "projetos",
         "orientation": "v",
         "showlegend": true,
         "type": "scatter",
         "x": [
          52
         ],
         "xaxis": "x",
         "y": [
          13
         ],
         "yaxis": "y"
        },
        {
         "hovertemplate": "<b>%{hovertext}</b><br><br>word=arrecadação<br>index=%{x}<br>count=%{marker.size}<extra></extra>",
         "hovertext": [
          "arrecadação"
         ],
         "legendgroup": "arrecadação",
         "marker": {
          "color": "#ab63fa",
          "size": [
           13
          ],
          "sizemode": "area",
          "sizeref": 0.018333333333333333,
          "symbol": "circle"
         },
         "mode": "markers",
         "name": "arrecadação",
         "orientation": "v",
         "showlegend": true,
         "type": "scatter",
         "x": [
          53
         ],
         "xaxis": "x",
         "y": [
          13
         ],
         "yaxis": "y"
        },
        {
         "hovertemplate": "<b>%{hovertext}</b><br><br>word=eólica<br>index=%{x}<br>count=%{marker.size}<extra></extra>",
         "hovertext": [
          "eólica"
         ],
         "legendgroup": "eólica",
         "marker": {
          "color": "#FFA15A",
          "size": [
           13
          ],
          "sizemode": "area",
          "sizeref": 0.018333333333333333,
          "symbol": "circle"
         },
         "mode": "markers",
         "name": "eólica",
         "orientation": "v",
         "showlegend": true,
         "type": "scatter",
         "x": [
          54
         ],
         "xaxis": "x",
         "y": [
          13
         ],
         "yaxis": "y"
        },
        {
         "hovertemplate": "<b>%{hovertext}</b><br><br>word=bandeira<br>index=%{x}<br>count=%{marker.size}<extra></extra>",
         "hovertext": [
          "bandeira"
         ],
         "legendgroup": "bandeira",
         "marker": {
          "color": "#19d3f3",
          "size": [
           13
          ],
          "sizemode": "area",
          "sizeref": 0.018333333333333333,
          "symbol": "circle"
         },
         "mode": "markers",
         "name": "bandeira",
         "orientation": "v",
         "showlegend": true,
         "type": "scatter",
         "x": [
          55
         ],
         "xaxis": "x",
         "y": [
          13
         ],
         "yaxis": "y"
        },
        {
         "hovertemplate": "<b>%{hovertext}</b><br><br>word=gasolina<br>index=%{x}<br>count=%{marker.size}<extra></extra>",
         "hovertext": [
          "gasolina"
         ],
         "legendgroup": "gasolina",
         "marker": {
          "color": "#FF6692",
          "size": [
           13
          ],
          "sizemode": "area",
          "sizeref": 0.018333333333333333,
          "symbol": "circle"
         },
         "mode": "markers",
         "name": "gasolina",
         "orientation": "v",
         "showlegend": true,
         "type": "scatter",
         "x": [
          56
         ],
         "xaxis": "x",
         "y": [
          13
         ],
         "yaxis": "y"
        },
        {
         "hovertemplate": "<b>%{hovertext}</b><br><br>word=dois<br>index=%{x}<br>count=%{marker.size}<extra></extra>",
         "hovertext": [
          "dois"
         ],
         "legendgroup": "dois",
         "marker": {
          "color": "#B6E880",
          "size": [
           13
          ],
          "sizemode": "area",
          "sizeref": 0.018333333333333333,
          "symbol": "circle"
         },
         "mode": "markers",
         "name": "dois",
         "orientation": "v",
         "showlegend": true,
         "type": "scatter",
         "x": [
          57
         ],
         "xaxis": "x",
         "y": [
          13
         ],
         "yaxis": "y"
        },
        {
         "hovertemplate": "<b>%{hovertext}</b><br><br>word=russo<br>index=%{x}<br>count=%{marker.size}<extra></extra>",
         "hovertext": [
          "russo"
         ],
         "legendgroup": "russo",
         "marker": {
          "color": "#FF97FF",
          "size": [
           13
          ],
          "sizemode": "area",
          "sizeref": 0.018333333333333333,
          "symbol": "circle"
         },
         "mode": "markers",
         "name": "russo",
         "orientation": "v",
         "showlegend": true,
         "type": "scatter",
         "x": [
          58
         ],
         "xaxis": "x",
         "y": [
          13
         ],
         "yaxis": "y"
        },
        {
         "hovertemplate": "<b>%{hovertext}</b><br><br>word=união<br>index=%{x}<br>count=%{marker.size}<extra></extra>",
         "hovertext": [
          "união"
         ],
         "legendgroup": "união",
         "marker": {
          "color": "#FECB52",
          "size": [
           13
          ],
          "sizemode": "area",
          "sizeref": 0.018333333333333333,
          "symbol": "circle"
         },
         "mode": "markers",
         "name": "união",
         "orientation": "v",
         "showlegend": true,
         "type": "scatter",
         "x": [
          59
         ],
         "xaxis": "x",
         "y": [
          13
         ],
         "yaxis": "y"
        },
        {
         "hovertemplate": "<b>%{hovertext}</b><br><br>word=importações<br>index=%{x}<br>count=%{marker.size}<extra></extra>",
         "hovertext": [
          "importações"
         ],
         "legendgroup": "importações",
         "marker": {
          "color": "#636efa",
          "size": [
           13
          ],
          "sizemode": "area",
          "sizeref": 0.018333333333333333,
          "symbol": "circle"
         },
         "mode": "markers",
         "name": "importações",
         "orientation": "v",
         "showlegend": true,
         "type": "scatter",
         "x": [
          60
         ],
         "xaxis": "x",
         "y": [
          13
         ],
         "yaxis": "y"
        },
        {
         "hovertemplate": "<b>%{hovertext}</b><br><br>word=bpd<br>index=%{x}<br>count=%{marker.size}<extra></extra>",
         "hovertext": [
          "bpd"
         ],
         "legendgroup": "bpd",
         "marker": {
          "color": "#EF553B",
          "size": [
           13
          ],
          "sizemode": "area",
          "sizeref": 0.018333333333333333,
          "symbol": "circle"
         },
         "mode": "markers",
         "name": "bpd",
         "orientation": "v",
         "showlegend": true,
         "type": "scatter",
         "x": [
          61
         ],
         "xaxis": "x",
         "y": [
          13
         ],
         "yaxis": "y"
        },
        {
         "hovertemplate": "<b>%{hovertext}</b><br><br>word=reduzir<br>index=%{x}<br>count=%{marker.size}<extra></extra>",
         "hovertext": [
          "reduzir"
         ],
         "legendgroup": "reduzir",
         "marker": {
          "color": "#00cc96",
          "size": [
           13
          ],
          "sizemode": "area",
          "sizeref": 0.018333333333333333,
          "symbol": "circle"
         },
         "mode": "markers",
         "name": "reduzir",
         "orientation": "v",
         "showlegend": true,
         "type": "scatter",
         "x": [
          62
         ],
         "xaxis": "x",
         "y": [
          13
         ],
         "yaxis": "y"
        },
        {
         "hovertemplate": "<b>%{hovertext}</b><br><br>word=problema<br>index=%{x}<br>count=%{marker.size}<extra></extra>",
         "hovertext": [
          "problema"
         ],
         "legendgroup": "problema",
         "marker": {
          "color": "#ab63fa",
          "size": [
           13
          ],
          "sizemode": "area",
          "sizeref": 0.018333333333333333,
          "symbol": "circle"
         },
         "mode": "markers",
         "name": "problema",
         "orientation": "v",
         "showlegend": true,
         "type": "scatter",
         "x": [
          63
         ],
         "xaxis": "x",
         "y": [
          13
         ],
         "yaxis": "y"
        },
        {
         "hovertemplate": "<b>%{hovertext}</b><br><br>word=inflação<br>index=%{x}<br>count=%{marker.size}<extra></extra>",
         "hovertext": [
          "inflação"
         ],
         "legendgroup": "inflação",
         "marker": {
          "color": "#FFA15A",
          "size": [
           13
          ],
          "sizemode": "area",
          "sizeref": 0.018333333333333333,
          "symbol": "circle"
         },
         "mode": "markers",
         "name": "inflação",
         "orientation": "v",
         "showlegend": true,
         "type": "scatter",
         "x": [
          64
         ],
         "xaxis": "x",
         "y": [
          13
         ],
         "yaxis": "y"
        },
        {
         "hovertemplate": "<b>%{hovertext}</b><br><br>word=global<br>index=%{x}<br>count=%{marker.size}<extra></extra>",
         "hovertext": [
          "global"
         ],
         "legendgroup": "global",
         "marker": {
          "color": "#19d3f3",
          "size": [
           13
          ],
          "sizemode": "area",
          "sizeref": 0.018333333333333333,
          "symbol": "circle"
         },
         "mode": "markers",
         "name": "global",
         "orientation": "v",
         "showlegend": true,
         "type": "scatter",
         "x": [
          65
         ],
         "xaxis": "x",
         "y": [
          13
         ],
         "yaxis": "y"
        },
        {
         "hovertemplate": "<b>%{hovertext}</b><br><br>word=cobrança<br>index=%{x}<br>count=%{marker.size}<extra></extra>",
         "hovertext": [
          "cobrança"
         ],
         "legendgroup": "cobrança",
         "marker": {
          "color": "#FF6692",
          "size": [
           13
          ],
          "sizemode": "area",
          "sizeref": 0.018333333333333333,
          "symbol": "circle"
         },
         "mode": "markers",
         "name": "cobrança",
         "orientation": "v",
         "showlegend": true,
         "type": "scatter",
         "x": [
          66
         ],
         "xaxis": "x",
         "y": [
          13
         ],
         "yaxis": "y"
        },
        {
         "hovertemplate": "<b>%{hovertext}</b><br><br>word=resultado<br>index=%{x}<br>count=%{marker.size}<extra></extra>",
         "hovertext": [
          "resultado"
         ],
         "legendgroup": "resultado",
         "marker": {
          "color": "#B6E880",
          "size": [
           12
          ],
          "sizemode": "area",
          "sizeref": 0.018333333333333333,
          "symbol": "circle"
         },
         "mode": "markers",
         "name": "resultado",
         "orientation": "v",
         "showlegend": true,
         "type": "scatter",
         "x": [
          67
         ],
         "xaxis": "x",
         "y": [
          12
         ],
         "yaxis": "y"
        },
        {
         "hovertemplate": "<b>%{hovertext}</b><br><br>word=meses<br>index=%{x}<br>count=%{marker.size}<extra></extra>",
         "hovertext": [
          "meses"
         ],
         "legendgroup": "meses",
         "marker": {
          "color": "#FF97FF",
          "size": [
           12
          ],
          "sizemode": "area",
          "sizeref": 0.018333333333333333,
          "symbol": "circle"
         },
         "mode": "markers",
         "name": "meses",
         "orientation": "v",
         "showlegend": true,
         "type": "scatter",
         "x": [
          68
         ],
         "xaxis": "x",
         "y": [
          12
         ],
         "yaxis": "y"
        },
        {
         "hovertemplate": "<b>%{hovertext}</b><br><br>word=rublos<br>index=%{x}<br>count=%{marker.size}<extra></extra>",
         "hovertext": [
          "rublos"
         ],
         "legendgroup": "rublos",
         "marker": {
          "color": "#FECB52",
          "size": [
           12
          ],
          "sizemode": "area",
          "sizeref": 0.018333333333333333,
          "symbol": "circle"
         },
         "mode": "markers",
         "name": "rublos",
         "orientation": "v",
         "showlegend": true,
         "type": "scatter",
         "x": [
          69
         ],
         "xaxis": "x",
         "y": [
          12
         ],
         "yaxis": "y"
        },
        {
         "hovertemplate": "<b>%{hovertext}</b><br><br>word=euros<br>index=%{x}<br>count=%{marker.size}<extra></extra>",
         "hovertext": [
          "euros"
         ],
         "legendgroup": "euros",
         "marker": {
          "color": "#636efa",
          "size": [
           12
          ],
          "sizemode": "area",
          "sizeref": 0.018333333333333333,
          "symbol": "circle"
         },
         "mode": "markers",
         "name": "euros",
         "orientation": "v",
         "showlegend": true,
         "type": "scatter",
         "x": [
          70
         ],
         "xaxis": "x",
         "y": [
          12
         ],
         "yaxis": "y"
        },
        {
         "hovertemplate": "<b>%{hovertext}</b><br><br>word=ministro<br>index=%{x}<br>count=%{marker.size}<extra></extra>",
         "hovertext": [
          "ministro"
         ],
         "legendgroup": "ministro",
         "marker": {
          "color": "#EF553B",
          "size": [
           12
          ],
          "sizemode": "area",
          "sizeref": 0.018333333333333333,
          "symbol": "circle"
         },
         "mode": "markers",
         "name": "ministro",
         "orientation": "v",
         "showlegend": true,
         "type": "scatter",
         "x": [
          71
         ],
         "xaxis": "x",
         "y": [
          12
         ],
         "yaxis": "y"
        },
        {
         "hovertemplate": "<b>%{hovertext}</b><br><br>word=indústria<br>index=%{x}<br>count=%{marker.size}<extra></extra>",
         "hovertext": [
          "indústria"
         ],
         "legendgroup": "indústria",
         "marker": {
          "color": "#00cc96",
          "size": [
           12
          ],
          "sizemode": "area",
          "sizeref": 0.018333333333333333,
          "symbol": "circle"
         },
         "mode": "markers",
         "name": "indústria",
         "orientation": "v",
         "showlegend": true,
         "type": "scatter",
         "x": [
          72
         ],
         "xaxis": "x",
         "y": [
          12
         ],
         "yaxis": "y"
        },
        {
         "hovertemplate": "<b>%{hovertext}</b><br><br>word=brasileiro<br>index=%{x}<br>count=%{marker.size}<extra></extra>",
         "hovertext": [
          "brasileiro"
         ],
         "legendgroup": "brasileiro",
         "marker": {
          "color": "#ab63fa",
          "size": [
           12
          ],
          "sizemode": "area",
          "sizeref": 0.018333333333333333,
          "symbol": "circle"
         },
         "mode": "markers",
         "name": "brasileiro",
         "orientation": "v",
         "showlegend": true,
         "type": "scatter",
         "x": [
          73
         ],
         "xaxis": "x",
         "y": [
          12
         ],
         "yaxis": "y"
        },
        {
         "hovertemplate": "<b>%{hovertext}</b><br><br>word=contrato<br>index=%{x}<br>count=%{marker.size}<extra></extra>",
         "hovertext": [
          "contrato"
         ],
         "legendgroup": "contrato",
         "marker": {
          "color": "#FFA15A",
          "size": [
           12
          ],
          "sizemode": "area",
          "sizeref": 0.018333333333333333,
          "symbol": "circle"
         },
         "mode": "markers",
         "name": "contrato",
         "orientation": "v",
         "showlegend": true,
         "type": "scatter",
         "x": [
          74
         ],
         "xaxis": "x",
         "y": [
          12
         ],
         "yaxis": "y"
        },
        {
         "hovertemplate": "<b>%{hovertext}</b><br><br>word=maio<br>index=%{x}<br>count=%{marker.size}<extra></extra>",
         "hovertext": [
          "maio"
         ],
         "legendgroup": "maio",
         "marker": {
          "color": "#19d3f3",
          "size": [
           12
          ],
          "sizemode": "area",
          "sizeref": 0.018333333333333333,
          "symbol": "circle"
         },
         "mode": "markers",
         "name": "maio",
         "orientation": "v",
         "showlegend": true,
         "type": "scatter",
         "x": [
          75
         ],
         "xaxis": "x",
         "y": [
          12
         ],
         "yaxis": "y"
        },
        {
         "hovertemplate": "<b>%{hovertext}</b><br><br>word=alíquota<br>index=%{x}<br>count=%{marker.size}<extra></extra>",
         "hovertext": [
          "alíquota"
         ],
         "legendgroup": "alíquota",
         "marker": {
          "color": "#FF6692",
          "size": [
           12
          ],
          "sizemode": "area",
          "sizeref": 0.018333333333333333,
          "symbol": "circle"
         },
         "mode": "markers",
         "name": "alíquota",
         "orientation": "v",
         "showlegend": true,
         "type": "scatter",
         "x": [
          76
         ],
         "xaxis": "x",
         "y": [
          12
         ],
         "yaxis": "y"
        },
        {
         "hovertemplate": "<b>%{hovertext}</b><br><br>word=outro<br>index=%{x}<br>count=%{marker.size}<extra></extra>",
         "hovertext": [
          "outro"
         ],
         "legendgroup": "outro",
         "marker": {
          "color": "#B6E880",
          "size": [
           12
          ],
          "sizemode": "area",
          "sizeref": 0.018333333333333333,
          "symbol": "circle"
         },
         "mode": "markers",
         "name": "outro",
         "orientation": "v",
         "showlegend": true,
         "type": "scatter",
         "x": [
          77
         ],
         "xaxis": "x",
         "y": [
          12
         ],
         "yaxis": "y"
        },
        {
         "hovertemplate": "<b>%{hovertext}</b><br><br>word=governo<br>index=%{x}<br>count=%{marker.size}<extra></extra>",
         "hovertext": [
          "governo"
         ],
         "legendgroup": "governo",
         "marker": {
          "color": "#FF97FF",
          "size": [
           12
          ],
          "sizemode": "area",
          "sizeref": 0.018333333333333333,
          "symbol": "circle"
         },
         "mode": "markers",
         "name": "governo",
         "orientation": "v",
         "showlegend": true,
         "type": "scatter",
         "x": [
          78
         ],
         "xaxis": "x",
         "y": [
          12
         ],
         "yaxis": "y"
        },
        {
         "hovertemplate": "<b>%{hovertext}</b><br><br>word=companhia<br>index=%{x}<br>count=%{marker.size}<extra></extra>",
         "hovertext": [
          "companhia"
         ],
         "legendgroup": "companhia",
         "marker": {
          "color": "#FECB52",
          "size": [
           12
          ],
          "sizemode": "area",
          "sizeref": 0.018333333333333333,
          "symbol": "circle"
         },
         "mode": "markers",
         "name": "companhia",
         "orientation": "v",
         "showlegend": true,
         "type": "scatter",
         "x": [
          79
         ],
         "xaxis": "x",
         "y": [
          12
         ],
         "yaxis": "y"
        },
        {
         "hovertemplate": "<b>%{hovertext}</b><br><br>word=valor<br>index=%{x}<br>count=%{marker.size}<extra></extra>",
         "hovertext": [
          "valor"
         ],
         "legendgroup": "valor",
         "marker": {
          "color": "#636efa",
          "size": [
           11
          ],
          "sizemode": "area",
          "sizeref": 0.018333333333333333,
          "symbol": "circle"
         },
         "mode": "markers",
         "name": "valor",
         "orientation": "v",
         "showlegend": true,
         "type": "scatter",
         "x": [
          80
         ],
         "xaxis": "x",
         "y": [
          11
         ],
         "yaxis": "y"
        },
        {
         "hovertemplate": "<b>%{hovertext}</b><br><br>word=guerra<br>index=%{x}<br>count=%{marker.size}<extra></extra>",
         "hovertext": [
          "guerra"
         ],
         "legendgroup": "guerra",
         "marker": {
          "color": "#EF553B",
          "size": [
           11
          ],
          "sizemode": "area",
          "sizeref": 0.018333333333333333,
          "symbol": "circle"
         },
         "mode": "markers",
         "name": "guerra",
         "orientation": "v",
         "showlegend": true,
         "type": "scatter",
         "x": [
          81
         ],
         "xaxis": "x",
         "y": [
          11
         ],
         "yaxis": "y"
        },
        {
         "hovertemplate": "<b>%{hovertext}</b><br><br>word=teto<br>index=%{x}<br>count=%{marker.size}<extra></extra>",
         "hovertext": [
          "teto"
         ],
         "legendgroup": "teto",
         "marker": {
          "color": "#00cc96",
          "size": [
           11
          ],
          "sizemode": "area",
          "sizeref": 0.018333333333333333,
          "symbol": "circle"
         },
         "mode": "markers",
         "name": "teto",
         "orientation": "v",
         "showlegend": true,
         "type": "scatter",
         "x": [
          82
         ],
         "xaxis": "x",
         "y": [
          11
         ],
         "yaxis": "y"
        },
        {
         "hovertemplate": "<b>%{hovertext}</b><br><br>word=lei<br>index=%{x}<br>count=%{marker.size}<extra></extra>",
         "hovertext": [
          "lei"
         ],
         "legendgroup": "lei",
         "marker": {
          "color": "#ab63fa",
          "size": [
           11
          ],
          "sizemode": "area",
          "sizeref": 0.018333333333333333,
          "symbol": "circle"
         },
         "mode": "markers",
         "name": "lei",
         "orientation": "v",
         "showlegend": true,
         "type": "scatter",
         "x": [
          83
         ],
         "xaxis": "x",
         "y": [
          11
         ],
         "yaxis": "y"
        },
        {
         "hovertemplate": "<b>%{hovertext}</b><br><br>word=gasterra<br>index=%{x}<br>count=%{marker.size}<extra></extra>",
         "hovertext": [
          "gasterra"
         ],
         "legendgroup": "gasterra",
         "marker": {
          "color": "#FFA15A",
          "size": [
           11
          ],
          "sizemode": "area",
          "sizeref": 0.018333333333333333,
          "symbol": "circle"
         },
         "mode": "markers",
         "name": "gasterra",
         "orientation": "v",
         "showlegend": true,
         "type": "scatter",
         "x": [
          84
         ],
         "xaxis": "x",
         "y": [
          11
         ],
         "yaxis": "y"
        },
        {
         "hovertemplate": "<b>%{hovertext}</b><br><br>word=oferta<br>index=%{x}<br>count=%{marker.size}<extra></extra>",
         "hovertext": [
          "oferta"
         ],
         "legendgroup": "oferta",
         "marker": {
          "color": "#19d3f3",
          "size": [
           11
          ],
          "sizemode": "area",
          "sizeref": 0.018333333333333333,
          "symbol": "circle"
         },
         "mode": "markers",
         "name": "oferta",
         "orientation": "v",
         "showlegend": true,
         "type": "scatter",
         "x": [
          85
         ],
         "xaxis": "x",
         "y": [
          11
         ],
         "yaxis": "y"
        },
        {
         "hovertemplate": "<b>%{hovertext}</b><br><br>word=parte<br>index=%{x}<br>count=%{marker.size}<extra></extra>",
         "hovertext": [
          "parte"
         ],
         "legendgroup": "parte",
         "marker": {
          "color": "#FF6692",
          "size": [
           11
          ],
          "sizemode": "area",
          "sizeref": 0.018333333333333333,
          "symbol": "circle"
         },
         "mode": "markers",
         "name": "parte",
         "orientation": "v",
         "showlegend": true,
         "type": "scatter",
         "x": [
          86
         ],
         "xaxis": "x",
         "y": [
          11
         ],
         "yaxis": "y"
        },
        {
         "hovertemplate": "<b>%{hovertext}</b><br><br>word=aie<br>index=%{x}<br>count=%{marker.size}<extra></extra>",
         "hovertext": [
          "aie"
         ],
         "legendgroup": "aie",
         "marker": {
          "color": "#B6E880",
          "size": [
           11
          ],
          "sizemode": "area",
          "sizeref": 0.018333333333333333,
          "symbol": "circle"
         },
         "mode": "markers",
         "name": "aie",
         "orientation": "v",
         "showlegend": true,
         "type": "scatter",
         "x": [
          87
         ],
         "xaxis": "x",
         "y": [
          11
         ],
         "yaxis": "y"
        },
        {
         "hovertemplate": "<b>%{hovertext}</b><br><br>word=desenvolvimento<br>index=%{x}<br>count=%{marker.size}<extra></extra>",
         "hovertext": [
          "desenvolvimento"
         ],
         "legendgroup": "desenvolvimento",
         "marker": {
          "color": "#FF97FF",
          "size": [
           11
          ],
          "sizemode": "area",
          "sizeref": 0.018333333333333333,
          "symbol": "circle"
         },
         "mode": "markers",
         "name": "desenvolvimento",
         "orientation": "v",
         "showlegend": true,
         "type": "scatter",
         "x": [
          88
         ],
         "xaxis": "x",
         "y": [
          11
         ],
         "yaxis": "y"
        }
       ],
       "layout": {
        "height": 750,
        "legend": {
         "itemsizing": "constant",
         "title": {
          "text": "word"
         },
         "tracegroupgap": 0
        },
        "template": {
         "data": {
          "bar": [
           {
            "error_x": {
             "color": "#2a3f5f"
            },
            "error_y": {
             "color": "#2a3f5f"
            },
            "marker": {
             "line": {
              "color": "#E5ECF6",
              "width": 0.5
             },
             "pattern": {
              "fillmode": "overlay",
              "size": 10,
              "solidity": 0.2
             }
            },
            "type": "bar"
           }
          ],
          "barpolar": [
           {
            "marker": {
             "line": {
              "color": "#E5ECF6",
              "width": 0.5
             },
             "pattern": {
              "fillmode": "overlay",
              "size": 10,
              "solidity": 0.2
             }
            },
            "type": "barpolar"
           }
          ],
          "carpet": [
           {
            "aaxis": {
             "endlinecolor": "#2a3f5f",
             "gridcolor": "white",
             "linecolor": "white",
             "minorgridcolor": "white",
             "startlinecolor": "#2a3f5f"
            },
            "baxis": {
             "endlinecolor": "#2a3f5f",
             "gridcolor": "white",
             "linecolor": "white",
             "minorgridcolor": "white",
             "startlinecolor": "#2a3f5f"
            },
            "type": "carpet"
           }
          ],
          "choropleth": [
           {
            "colorbar": {
             "outlinewidth": 0,
             "ticks": ""
            },
            "type": "choropleth"
           }
          ],
          "contour": [
           {
            "colorbar": {
             "outlinewidth": 0,
             "ticks": ""
            },
            "colorscale": [
             [
              0,
              "#0d0887"
             ],
             [
              0.1111111111111111,
              "#46039f"
             ],
             [
              0.2222222222222222,
              "#7201a8"
             ],
             [
              0.3333333333333333,
              "#9c179e"
             ],
             [
              0.4444444444444444,
              "#bd3786"
             ],
             [
              0.5555555555555556,
              "#d8576b"
             ],
             [
              0.6666666666666666,
              "#ed7953"
             ],
             [
              0.7777777777777778,
              "#fb9f3a"
             ],
             [
              0.8888888888888888,
              "#fdca26"
             ],
             [
              1,
              "#f0f921"
             ]
            ],
            "type": "contour"
           }
          ],
          "contourcarpet": [
           {
            "colorbar": {
             "outlinewidth": 0,
             "ticks": ""
            },
            "type": "contourcarpet"
           }
          ],
          "heatmap": [
           {
            "colorbar": {
             "outlinewidth": 0,
             "ticks": ""
            },
            "colorscale": [
             [
              0,
              "#0d0887"
             ],
             [
              0.1111111111111111,
              "#46039f"
             ],
             [
              0.2222222222222222,
              "#7201a8"
             ],
             [
              0.3333333333333333,
              "#9c179e"
             ],
             [
              0.4444444444444444,
              "#bd3786"
             ],
             [
              0.5555555555555556,
              "#d8576b"
             ],
             [
              0.6666666666666666,
              "#ed7953"
             ],
             [
              0.7777777777777778,
              "#fb9f3a"
             ],
             [
              0.8888888888888888,
              "#fdca26"
             ],
             [
              1,
              "#f0f921"
             ]
            ],
            "type": "heatmap"
           }
          ],
          "heatmapgl": [
           {
            "colorbar": {
             "outlinewidth": 0,
             "ticks": ""
            },
            "colorscale": [
             [
              0,
              "#0d0887"
             ],
             [
              0.1111111111111111,
              "#46039f"
             ],
             [
              0.2222222222222222,
              "#7201a8"
             ],
             [
              0.3333333333333333,
              "#9c179e"
             ],
             [
              0.4444444444444444,
              "#bd3786"
             ],
             [
              0.5555555555555556,
              "#d8576b"
             ],
             [
              0.6666666666666666,
              "#ed7953"
             ],
             [
              0.7777777777777778,
              "#fb9f3a"
             ],
             [
              0.8888888888888888,
              "#fdca26"
             ],
             [
              1,
              "#f0f921"
             ]
            ],
            "type": "heatmapgl"
           }
          ],
          "histogram": [
           {
            "marker": {
             "pattern": {
              "fillmode": "overlay",
              "size": 10,
              "solidity": 0.2
             }
            },
            "type": "histogram"
           }
          ],
          "histogram2d": [
           {
            "colorbar": {
             "outlinewidth": 0,
             "ticks": ""
            },
            "colorscale": [
             [
              0,
              "#0d0887"
             ],
             [
              0.1111111111111111,
              "#46039f"
             ],
             [
              0.2222222222222222,
              "#7201a8"
             ],
             [
              0.3333333333333333,
              "#9c179e"
             ],
             [
              0.4444444444444444,
              "#bd3786"
             ],
             [
              0.5555555555555556,
              "#d8576b"
             ],
             [
              0.6666666666666666,
              "#ed7953"
             ],
             [
              0.7777777777777778,
              "#fb9f3a"
             ],
             [
              0.8888888888888888,
              "#fdca26"
             ],
             [
              1,
              "#f0f921"
             ]
            ],
            "type": "histogram2d"
           }
          ],
          "histogram2dcontour": [
           {
            "colorbar": {
             "outlinewidth": 0,
             "ticks": ""
            },
            "colorscale": [
             [
              0,
              "#0d0887"
             ],
             [
              0.1111111111111111,
              "#46039f"
             ],
             [
              0.2222222222222222,
              "#7201a8"
             ],
             [
              0.3333333333333333,
              "#9c179e"
             ],
             [
              0.4444444444444444,
              "#bd3786"
             ],
             [
              0.5555555555555556,
              "#d8576b"
             ],
             [
              0.6666666666666666,
              "#ed7953"
             ],
             [
              0.7777777777777778,
              "#fb9f3a"
             ],
             [
              0.8888888888888888,
              "#fdca26"
             ],
             [
              1,
              "#f0f921"
             ]
            ],
            "type": "histogram2dcontour"
           }
          ],
          "mesh3d": [
           {
            "colorbar": {
             "outlinewidth": 0,
             "ticks": ""
            },
            "type": "mesh3d"
           }
          ],
          "parcoords": [
           {
            "line": {
             "colorbar": {
              "outlinewidth": 0,
              "ticks": ""
             }
            },
            "type": "parcoords"
           }
          ],
          "pie": [
           {
            "automargin": true,
            "type": "pie"
           }
          ],
          "scatter": [
           {
            "marker": {
             "colorbar": {
              "outlinewidth": 0,
              "ticks": ""
             }
            },
            "type": "scatter"
           }
          ],
          "scatter3d": [
           {
            "line": {
             "colorbar": {
              "outlinewidth": 0,
              "ticks": ""
             }
            },
            "marker": {
             "colorbar": {
              "outlinewidth": 0,
              "ticks": ""
             }
            },
            "type": "scatter3d"
           }
          ],
          "scattercarpet": [
           {
            "marker": {
             "colorbar": {
              "outlinewidth": 0,
              "ticks": ""
             }
            },
            "type": "scattercarpet"
           }
          ],
          "scattergeo": [
           {
            "marker": {
             "colorbar": {
              "outlinewidth": 0,
              "ticks": ""
             }
            },
            "type": "scattergeo"
           }
          ],
          "scattergl": [
           {
            "marker": {
             "colorbar": {
              "outlinewidth": 0,
              "ticks": ""
             }
            },
            "type": "scattergl"
           }
          ],
          "scattermapbox": [
           {
            "marker": {
             "colorbar": {
              "outlinewidth": 0,
              "ticks": ""
             }
            },
            "type": "scattermapbox"
           }
          ],
          "scatterpolar": [
           {
            "marker": {
             "colorbar": {
              "outlinewidth": 0,
              "ticks": ""
             }
            },
            "type": "scatterpolar"
           }
          ],
          "scatterpolargl": [
           {
            "marker": {
             "colorbar": {
              "outlinewidth": 0,
              "ticks": ""
             }
            },
            "type": "scatterpolargl"
           }
          ],
          "scatterternary": [
           {
            "marker": {
             "colorbar": {
              "outlinewidth": 0,
              "ticks": ""
             }
            },
            "type": "scatterternary"
           }
          ],
          "surface": [
           {
            "colorbar": {
             "outlinewidth": 0,
             "ticks": ""
            },
            "colorscale": [
             [
              0,
              "#0d0887"
             ],
             [
              0.1111111111111111,
              "#46039f"
             ],
             [
              0.2222222222222222,
              "#7201a8"
             ],
             [
              0.3333333333333333,
              "#9c179e"
             ],
             [
              0.4444444444444444,
              "#bd3786"
             ],
             [
              0.5555555555555556,
              "#d8576b"
             ],
             [
              0.6666666666666666,
              "#ed7953"
             ],
             [
              0.7777777777777778,
              "#fb9f3a"
             ],
             [
              0.8888888888888888,
              "#fdca26"
             ],
             [
              1,
              "#f0f921"
             ]
            ],
            "type": "surface"
           }
          ],
          "table": [
           {
            "cells": {
             "fill": {
              "color": "#EBF0F8"
             },
             "line": {
              "color": "white"
             }
            },
            "header": {
             "fill": {
              "color": "#C8D4E3"
             },
             "line": {
              "color": "white"
             }
            },
            "type": "table"
           }
          ]
         },
         "layout": {
          "annotationdefaults": {
           "arrowcolor": "#2a3f5f",
           "arrowhead": 0,
           "arrowwidth": 1
          },
          "autotypenumbers": "strict",
          "coloraxis": {
           "colorbar": {
            "outlinewidth": 0,
            "ticks": ""
           }
          },
          "colorscale": {
           "diverging": [
            [
             0,
             "#8e0152"
            ],
            [
             0.1,
             "#c51b7d"
            ],
            [
             0.2,
             "#de77ae"
            ],
            [
             0.3,
             "#f1b6da"
            ],
            [
             0.4,
             "#fde0ef"
            ],
            [
             0.5,
             "#f7f7f7"
            ],
            [
             0.6,
             "#e6f5d0"
            ],
            [
             0.7,
             "#b8e186"
            ],
            [
             0.8,
             "#7fbc41"
            ],
            [
             0.9,
             "#4d9221"
            ],
            [
             1,
             "#276419"
            ]
           ],
           "sequential": [
            [
             0,
             "#0d0887"
            ],
            [
             0.1111111111111111,
             "#46039f"
            ],
            [
             0.2222222222222222,
             "#7201a8"
            ],
            [
             0.3333333333333333,
             "#9c179e"
            ],
            [
             0.4444444444444444,
             "#bd3786"
            ],
            [
             0.5555555555555556,
             "#d8576b"
            ],
            [
             0.6666666666666666,
             "#ed7953"
            ],
            [
             0.7777777777777778,
             "#fb9f3a"
            ],
            [
             0.8888888888888888,
             "#fdca26"
            ],
            [
             1,
             "#f0f921"
            ]
           ],
           "sequentialminus": [
            [
             0,
             "#0d0887"
            ],
            [
             0.1111111111111111,
             "#46039f"
            ],
            [
             0.2222222222222222,
             "#7201a8"
            ],
            [
             0.3333333333333333,
             "#9c179e"
            ],
            [
             0.4444444444444444,
             "#bd3786"
            ],
            [
             0.5555555555555556,
             "#d8576b"
            ],
            [
             0.6666666666666666,
             "#ed7953"
            ],
            [
             0.7777777777777778,
             "#fb9f3a"
            ],
            [
             0.8888888888888888,
             "#fdca26"
            ],
            [
             1,
             "#f0f921"
            ]
           ]
          },
          "colorway": [
           "#636efa",
           "#EF553B",
           "#00cc96",
           "#ab63fa",
           "#FFA15A",
           "#19d3f3",
           "#FF6692",
           "#B6E880",
           "#FF97FF",
           "#FECB52"
          ],
          "font": {
           "color": "#2a3f5f"
          },
          "geo": {
           "bgcolor": "white",
           "lakecolor": "white",
           "landcolor": "#E5ECF6",
           "showlakes": true,
           "showland": true,
           "subunitcolor": "white"
          },
          "hoverlabel": {
           "align": "left"
          },
          "hovermode": "closest",
          "mapbox": {
           "style": "light"
          },
          "paper_bgcolor": "white",
          "plot_bgcolor": "#E5ECF6",
          "polar": {
           "angularaxis": {
            "gridcolor": "white",
            "linecolor": "white",
            "ticks": ""
           },
           "bgcolor": "#E5ECF6",
           "radialaxis": {
            "gridcolor": "white",
            "linecolor": "white",
            "ticks": ""
           }
          },
          "scene": {
           "xaxis": {
            "backgroundcolor": "#E5ECF6",
            "gridcolor": "white",
            "gridwidth": 2,
            "linecolor": "white",
            "showbackground": true,
            "ticks": "",
            "zerolinecolor": "white"
           },
           "yaxis": {
            "backgroundcolor": "#E5ECF6",
            "gridcolor": "white",
            "gridwidth": 2,
            "linecolor": "white",
            "showbackground": true,
            "ticks": "",
            "zerolinecolor": "white"
           },
           "zaxis": {
            "backgroundcolor": "#E5ECF6",
            "gridcolor": "white",
            "gridwidth": 2,
            "linecolor": "white",
            "showbackground": true,
            "ticks": "",
            "zerolinecolor": "white"
           }
          },
          "shapedefaults": {
           "line": {
            "color": "#2a3f5f"
           }
          },
          "ternary": {
           "aaxis": {
            "gridcolor": "white",
            "linecolor": "white",
            "ticks": ""
           },
           "baxis": {
            "gridcolor": "white",
            "linecolor": "white",
            "ticks": ""
           },
           "bgcolor": "#E5ECF6",
           "caxis": {
            "gridcolor": "white",
            "linecolor": "white",
            "ticks": ""
           }
          },
          "title": {
           "x": 0.05
          },
          "xaxis": {
           "automargin": true,
           "gridcolor": "white",
           "linecolor": "white",
           "ticks": "",
           "title": {
            "standoff": 15
           },
           "zerolinecolor": "white",
           "zerolinewidth": 2
          },
          "yaxis": {
           "automargin": true,
           "gridcolor": "white",
           "linecolor": "white",
           "ticks": "",
           "title": {
            "standoff": 15
           },
           "zerolinecolor": "white",
           "zerolinewidth": 2
          }
         }
        },
        "title": {
         "text": "Author: CNN - CNN Brasil │ Theme: energia │ Date Rage: from [20/05/2022 at 00:03:00] to [15/06/2022 at 23:02:00]"
        },
        "width": 1500,
        "xaxis": {
         "anchor": "y",
         "domain": [
          0,
          1
         ],
         "title": {
          "text": "index"
         },
         "type": "log"
        },
        "yaxis": {
         "anchor": "x",
         "domain": [
          0,
          1
         ],
         "title": {
          "text": "count"
         }
        }
       }
      }
     },
     "metadata": {},
     "output_type": "display_data"
    },
    {
     "data": {
      "text/plain": [
       "'energia.html'"
      ]
     },
     "execution_count": 9,
     "metadata": {},
     "output_type": "execute_result"
    }
   ],
   "source": [
    "# iterative scatter analysis with wordcloud words\n",
    "\n",
    "## creating a dataframe with the dictionary generated by the NLP algorithm\n",
    "df2 = pd.DataFrame.from_dict(wordcloud_text, orient='index') # generating a dataframe from a dictionary\n",
    "df2 = df2.rename(columns={0:'count'}) \n",
    "df2['word'] = df2.index\n",
    "df2 = df2.reset_index(drop=True)\n",
    "df2 = df2[['word','count']]\n",
    "\n",
    "df2.sort_values(by = ['count'],ascending = False,inplace = True, ignore_index = True) # Sort values by descending\n",
    "\n",
    "## generating a scatterplot from the plotfy library\n",
    "fig = px.scatter(df2.query('count > 10'),\n",
    "                y=\"count\",\n",
    "                size=\"count\",\n",
    "                color=\"word\",\n",
    "                hover_name=\"word\",\n",
    "                log_x=True,\n",
    "                title = wordcloud_title,\n",
    "                width=1500, \n",
    "                height=750,\n",
    "                size_max=60)\n",
    "fig.show()\n",
    "\n",
    "plt.offline.plot(fig, filename = search_theme+'.html')"
   ]
  }
 ],
 "metadata": {
  "interpreter": {
   "hash": "b80af393ece9516bb574eaf2accc0f3996a7feeecd6bd1b55c66f68cb5cc8c2a"
  },
  "kernelspec": {
   "display_name": "Python 3.9.12 ('geo_env')",
   "language": "python",
   "name": "python3"
  },
  "language_info": {
   "codemirror_mode": {
    "name": "ipython",
    "version": 3
   },
   "file_extension": ".py",
   "mimetype": "text/x-python",
   "name": "python",
   "nbconvert_exporter": "python",
   "pygments_lexer": "ipython3",
   "version": "3.9.12"
  },
  "orig_nbformat": 4
 },
 "nbformat": 4,
 "nbformat_minor": 2
}
